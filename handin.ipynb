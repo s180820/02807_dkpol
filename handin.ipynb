{
 "cells": [
  {
   "cell_type": "markdown",
   "source": "# Twitter and politics",
   "metadata": {
    "formattedRanges": [],
    "is_collapsed": false,
    "tags": [],
    "cell_id": "00c17237-7653-4bd2-9725-34ee2d1eaa53",
    "deepnote_cell_type": "text-cell-h1"
   }
  },
  {
   "cell_type": "markdown",
   "source": "## Setup",
   "metadata": {
    "cell_id": "00001-f982cd88-810b-402a-be62-db93c9d63949",
    "deepnote_cell_type": "markdown",
    "deepnote_cell_height": 70
   }
  },
  {
   "cell_type": "code",
   "metadata": {
    "cell_id": "00002-d2ca94c7-dafc-44af-9253-55d2e0fa09ac",
    "deepnote_to_be_reexecuted": false,
    "source_hash": "948e0092",
    "execution_start": 1668253632901,
    "execution_millis": 4174,
    "deepnote_cell_type": "code",
    "deepnote_cell_height": 741.375
   },
   "source": "# %load_ext autoreload\n!python -m pip install tqdm requests nltk\nimport nltk\nnltk.download('punkt')\nnltk.download('stopwords')\nnltk.download('wordnet')\nnltk.download('averaged_perceptron_tagger')\nnltk.download('omw-1.4')",
   "execution_count": null,
   "outputs": [
    {
     "name": "stdout",
     "text": "Requirement already satisfied: tqdm in /shared-libs/python3.9/py/lib/python3.9/site-packages (4.64.1)\nRequirement already satisfied: requests in /shared-libs/python3.9/py/lib/python3.9/site-packages (2.28.1)\nRequirement already satisfied: nltk in /shared-libs/python3.9/py/lib/python3.9/site-packages (3.7)\nRequirement already satisfied: charset-normalizer<3,>=2 in /shared-libs/python3.9/py-core/lib/python3.9/site-packages (from requests) (2.1.1)\nRequirement already satisfied: idna<4,>=2.5 in /shared-libs/python3.9/py-core/lib/python3.9/site-packages (from requests) (3.4)\nRequirement already satisfied: certifi>=2017.4.17 in /shared-libs/python3.9/py/lib/python3.9/site-packages (from requests) (2022.9.24)\nRequirement already satisfied: urllib3<1.27,>=1.21.1 in /shared-libs/python3.9/py/lib/python3.9/site-packages (from requests) (1.26.12)\nRequirement already satisfied: regex>=2021.8.3 in /shared-libs/python3.9/py/lib/python3.9/site-packages (from nltk) (2022.9.13)\nRequirement already satisfied: click in /shared-libs/python3.9/py/lib/python3.9/site-packages (from nltk) (8.1.3)\nRequirement already satisfied: joblib in /shared-libs/python3.9/py/lib/python3.9/site-packages (from nltk) (1.2.0)\n\u001b[33mWARNING: You are using pip version 22.0.4; however, version 22.3.1 is available.\nYou should consider upgrading via the '/root/venv/bin/python -m pip install --upgrade pip' command.\u001b[0m\u001b[33m\n\u001b[0m[nltk_data] Downloading package punkt to /root/nltk_data...\n[nltk_data]   Package punkt is already up-to-date!\n[nltk_data] Downloading package stopwords to /root/nltk_data...\n[nltk_data]   Package stopwords is already up-to-date!\n[nltk_data] Downloading package wordnet to /root/nltk_data...\n[nltk_data]   Package wordnet is already up-to-date!\n[nltk_data] Downloading package averaged_perceptron_tagger to\n[nltk_data]     /root/nltk_data...\n[nltk_data]   Package averaged_perceptron_tagger is already up-to-\n[nltk_data]       date!\n[nltk_data] Downloading package omw-1.4 to /root/nltk_data...\n[nltk_data]   Package omw-1.4 is already up-to-date!\n",
     "output_type": "stream"
    },
    {
     "output_type": "execute_result",
     "execution_count": 3,
     "data": {
      "text/plain": "True"
     },
     "metadata": {}
    }
   ]
  },
  {
   "cell_type": "code",
   "metadata": {
    "cell_id": "00003-dd205bf8-2007-41ad-871a-e9e0cb50e89a",
    "deepnote_to_be_reexecuted": false,
    "source_hash": "a600ca46",
    "execution_start": 1668253638140,
    "execution_millis": 818,
    "deepnote_cell_type": "code",
    "deepnote_cell_height": 400
   },
   "source": "from IPython.display import display\nimport pandas as pd\nimport requests\nimport re\nfrom urllib.request import urlopen\nimport csv\nimport os\nimport numpy as np\nimport matplotlib.pyplot as plt\n#from fa2 import ForceAtlas2\nfrom scipy import stats\nimport nltk\nfrom nltk import word_tokenize\nfrom nltk.corpus import stopwords\nimport io\nfrom tqdm import tqdm\nfrom heapq import nlargest \nimport seaborn as sns\nsns.set()",
   "execution_count": null,
   "outputs": []
  },
  {
   "cell_type": "markdown",
   "source": "## Project description",
   "metadata": {
    "formattedRanges": [],
    "is_collapsed": false,
    "tags": [],
    "cell_id": "00004-9c3dc929-a729-4ccd-b3fd-601c811243e0",
    "deepnote_cell_type": "text-cell-h2"
   }
  },
  {
   "cell_type": "markdown",
   "source": "This project investigates how Danish politicians act on the social media platform [twitter.com](https://twitter.com).\n\n<b><u> Data </u></b>\n\nThe data set used for this project is a collection of tweets from the top 3 politicians by vote from each party with at least 5 mandates as of the 2022 danish election.\n\n<b><u> Problem formulation </u></b>\n\nThis project will investigate the following questions:\n\n1. What type of issues are the politicians tweeting about and how does this reflect their \"mærkesager\"? ( foreslag: and how does this reflect the specific ideological or political goal they promote. )\n2. How are politicians clustered based on their tweets and how does this compare to the clustering based on their party? \n3. How can we create a candidate test based on the politicians' tweets?\n\n<b><u> Methods for solving the problem </u></b>\n\nThe project will use the following methods to solve the problems stated above:\n\n1. Word clouds for each party/politician reveal the words they used the most and using <b>frequent itemsets</b> we may recognize a \"mærkesag\".\n2. Different <b>clustering</b> techniques taught in the course will be investigated and used to cluster the politicians.\n3. A <b>recommender system</b> is created based on a user tweet and the tweets of politicians to form a candidate test. Here <b>similar items</b> can be used to obtain a <b>similarity score</b> used by the recommender system.\n\n<b><u> Code </u></b>\n\nMost of the code used for the project is written directly in this notebook. However, to avoid cluttering the notebook, some of the code is written as functions in separate files and imported into the notebook. These files can be seen in `utils/` folder in the github repository for this project found [here](https://github.com/s180820/02807_dkpol).\n\n<b><u> Contribution </u></b>\n\nAll members of the group contributed equally to the project both in terms of coding and writing. The group worked together on the project and discussed the results and the code. ",
   "metadata": {
    "cell_id": "00005-78f357e0-fcbe-481a-b125-b8d826ebcb04",
    "deepnote_cell_type": "markdown",
    "deepnote_cell_height": 747.5625
   }
  },
  {
   "cell_type": "markdown",
   "source": "## Data",
   "metadata": {
    "formattedRanges": [],
    "is_collapsed": false,
    "tags": [],
    "cell_id": "00006-21214b66-7455-452c-8669-d32265c0481b",
    "deepnote_cell_type": "text-cell-h2"
   }
  },
  {
   "cell_type": "markdown",
   "source": "### Getting the data",
   "metadata": {
    "cell_id": "00007-b2d4291f-b936-41cb-b821-05942d77d674",
    "deepnote_cell_type": "markdown",
    "deepnote_cell_height": 62
   }
  },
  {
   "cell_type": "markdown",
   "source": "Based on https://www.dr.dk/nyheder/politik/folketingsvalg/valgte a list of the top 3 politicians by vote from each party with at least 5 mandates as of the 2022 danish election is created. \n\nData is collected using the <font color=\"red\"> TODO </font> twitter API. \n\nAs the twitter API needs the twitter user id to collect tweets, the twitter user ids are manually collected using the [\"Find Twitter ID\"](https://www.codeofaninja.com/tools/find-twitter-id/) by [CodeOfaNinja](https://www.codeofaninja.com/).\n\nThe resulting politicians and their twitter ids are seen in the dataframe below.\n\nWe observe that we have 12 different parties and 36 politicians in total.",
   "metadata": {
    "cell_id": "bee87ff2e26c4c6ebd7c51d4065329b4",
    "tags": [],
    "deepnote_cell_type": "markdown",
    "deepnote_cell_height": 242.78125
   }
  },
  {
   "cell_type": "code",
   "metadata": {
    "deepnote_to_be_reexecuted": false,
    "execution_millis": 89,
    "execution_start": 1668253643197,
    "source_hash": "b31e0703",
    "tags": [],
    "cell_id": "00009-f789671d-492a-434e-b61c-ba5b251f7d6d",
    "deepnote_cell_type": "code",
    "deepnote_cell_height": 775
   },
   "source": "from Data.twitter_ids import twitter_ids\n\ntwitter_id_df = pd.DataFrame(columns=['name', \"party\", 'twitter_id'])\ni = 0\nfor party in twitter_ids:\n    for person in twitter_ids[party]:\n        twitter_id_df.loc[i, :] = [person, party, twitter_ids[party][person]]\n        i += 1\n\ndisplay(twitter_id_df)\n",
   "execution_count": null,
   "outputs": [
    {
     "data": {
      "application/vnd.deepnote.dataframe.v3+json": {
       "column_count": 3,
       "row_count": 36,
       "columns": [
        {
         "name": "name",
         "dtype": "object",
         "stats": {
          "unique_count": 36,
          "nan_count": 0,
          "categories": [
           {
            "name": "magnus_heunicke",
            "count": 1
           },
           {
            "name": "nicolai_wammen",
            "count": 1
           },
           {
            "name": "34 others",
            "count": 34
           }
          ]
         }
        },
        {
         "name": "party",
         "dtype": "object",
         "stats": {
          "unique_count": 12,
          "nan_count": 0,
          "categories": [
           {
            "name": "socialdemokratiet",
            "count": 3
           },
           {
            "name": "venstre",
            "count": 3
           },
           {
            "name": "10 others",
            "count": 30
           }
          ]
         }
        },
        {
         "name": "twitter_id",
         "dtype": "object",
         "stats": {
          "unique_count": 36,
          "nan_count": 0,
          "categories": [
           {
            "name": "22695562",
            "count": 1
           },
           {
            "name": "2803948786",
            "count": 1
           },
           {
            "name": "34 others",
            "count": 34
           }
          ]
         }
        },
        {
         "name": "_deepnote_index_column",
         "dtype": "int64"
        }
       ],
       "rows": [
        {
         "name": "magnus_heunicke",
         "party": "socialdemokratiet",
         "twitter_id": "22695562",
         "_deepnote_index_column": "0"
        },
        {
         "name": "nicolai_wammen",
         "party": "socialdemokratiet",
         "twitter_id": "2803948786",
         "_deepnote_index_column": "1"
        },
        {
         "name": "mattias_tesfaye",
         "party": "socialdemokratiet",
         "twitter_id": "546254893",
         "_deepnote_index_column": "2"
        },
        {
         "name": "jakob_ellemann",
         "party": "venstre",
         "twitter_id": "155584627",
         "_deepnote_index_column": "3"
        },
        {
         "name": "soren_gade",
         "party": "venstre",
         "twitter_id": "975064362359623680",
         "_deepnote_index_column": "4"
        },
        {
         "name": "sophie_lohde",
         "party": "venstre",
         "twitter_id": "44611200",
         "_deepnote_index_column": "5"
        },
        {
         "name": "lars_lokke",
         "party": "moderaterne",
         "twitter_id": "26201346",
         "_deepnote_index_column": "6"
        },
        {
         "name": "henrik_frandsen",
         "party": "moderaterne",
         "twitter_id": "1249019841924734977",
         "_deepnote_index_column": "7"
        },
        {
         "name": "rosa_eriksen",
         "party": "moderaterne",
         "twitter_id": "1560192117858861056",
         "_deepnote_index_column": "8"
        },
        {
         "name": "jacob_mark",
         "party": "sf",
         "twitter_id": "2373406198",
         "_deepnote_index_column": "9"
        }
       ]
      },
      "text/plain": "                    name                 party           twitter_id\n0        magnus_heunicke     socialdemokratiet             22695562\n1         nicolai_wammen     socialdemokratiet           2803948786\n2        mattias_tesfaye     socialdemokratiet            546254893\n3         jakob_ellemann               venstre            155584627\n4             soren_gade               venstre   975064362359623680\n5           sophie_lohde               venstre             44611200\n6             lars_lokke           moderaterne             26201346\n7        henrik_frandsen           moderaterne  1249019841924734977\n8           rosa_eriksen           moderaterne  1560192117858861056\n9             jacob_mark                    sf           2373406198\n10              pia_dyhr                    sf             65025162\n11      kirsten_andersen                    sf            235646319\n12      dennis_flydtkjær  danmarksdemokraterne            531595033\n13         peter_skaarup  danmarksdemokraterne           3144074691\n14        soren_espersen  danmarksdemokraterne           2444718215\n15       alex_vanopslagh      liberal_alliance           1531564633\n16            ole_olesen      liberal_alliance           2222188479\n17     solbjorg_jakobsen      liberal_alliance  1548641745264644099\n18            soren_pape          konservative           2712091824\n19      mette_abildgaard          konservative             37877392\n20         rasmus_jarlov          konservative           1225930531\n21        pelle_dragsted          enhedslisten            119879630\n22         mai_villadsen          enhedslisten           4724782641\n23             rosa_lund          enhedslisten            736979161\n24      martin_lidegaard              radikale           1070745218\n25           samira_nawa              radikale             92107029\n26        katrine_robsoe              radikale           2491403660\n27      pernille_vermund        nye_borgerlige             24687777\n28        lars_mathiesen        nye_borgerlige            980721900\n29          kim_andersen        nye_borgerlige   783935815600799744\n30  franciska_rosenkilde          alternativet   777113466205274112\n31     christina_olumeko          alternativet  1324801335372488707\n32          torsten_gejl          alternativet           2806864609\n33  morten_messerschmidt      dansk_folkeparti            509288627\n34        pia_kjarsgaard      dansk_folkeparti  1054640354690039809\n35           peter_kofod      dansk_folkeparti           1613378210",
      "text/html": "<div>\n<style scoped>\n    .dataframe tbody tr th:only-of-type {\n        vertical-align: middle;\n    }\n\n    .dataframe tbody tr th {\n        vertical-align: top;\n    }\n\n    .dataframe thead th {\n        text-align: right;\n    }\n</style>\n<table border=\"1\" class=\"dataframe\">\n  <thead>\n    <tr style=\"text-align: right;\">\n      <th></th>\n      <th>name</th>\n      <th>party</th>\n      <th>twitter_id</th>\n    </tr>\n  </thead>\n  <tbody>\n    <tr>\n      <th>0</th>\n      <td>magnus_heunicke</td>\n      <td>socialdemokratiet</td>\n      <td>22695562</td>\n    </tr>\n    <tr>\n      <th>1</th>\n      <td>nicolai_wammen</td>\n      <td>socialdemokratiet</td>\n      <td>2803948786</td>\n    </tr>\n    <tr>\n      <th>2</th>\n      <td>mattias_tesfaye</td>\n      <td>socialdemokratiet</td>\n      <td>546254893</td>\n    </tr>\n    <tr>\n      <th>3</th>\n      <td>jakob_ellemann</td>\n      <td>venstre</td>\n      <td>155584627</td>\n    </tr>\n    <tr>\n      <th>4</th>\n      <td>soren_gade</td>\n      <td>venstre</td>\n      <td>975064362359623680</td>\n    </tr>\n    <tr>\n      <th>5</th>\n      <td>sophie_lohde</td>\n      <td>venstre</td>\n      <td>44611200</td>\n    </tr>\n    <tr>\n      <th>6</th>\n      <td>lars_lokke</td>\n      <td>moderaterne</td>\n      <td>26201346</td>\n    </tr>\n    <tr>\n      <th>7</th>\n      <td>henrik_frandsen</td>\n      <td>moderaterne</td>\n      <td>1249019841924734977</td>\n    </tr>\n    <tr>\n      <th>8</th>\n      <td>rosa_eriksen</td>\n      <td>moderaterne</td>\n      <td>1560192117858861056</td>\n    </tr>\n    <tr>\n      <th>9</th>\n      <td>jacob_mark</td>\n      <td>sf</td>\n      <td>2373406198</td>\n    </tr>\n    <tr>\n      <th>10</th>\n      <td>pia_dyhr</td>\n      <td>sf</td>\n      <td>65025162</td>\n    </tr>\n    <tr>\n      <th>11</th>\n      <td>kirsten_andersen</td>\n      <td>sf</td>\n      <td>235646319</td>\n    </tr>\n    <tr>\n      <th>12</th>\n      <td>dennis_flydtkjær</td>\n      <td>danmarksdemokraterne</td>\n      <td>531595033</td>\n    </tr>\n    <tr>\n      <th>13</th>\n      <td>peter_skaarup</td>\n      <td>danmarksdemokraterne</td>\n      <td>3144074691</td>\n    </tr>\n    <tr>\n      <th>14</th>\n      <td>soren_espersen</td>\n      <td>danmarksdemokraterne</td>\n      <td>2444718215</td>\n    </tr>\n    <tr>\n      <th>15</th>\n      <td>alex_vanopslagh</td>\n      <td>liberal_alliance</td>\n      <td>1531564633</td>\n    </tr>\n    <tr>\n      <th>16</th>\n      <td>ole_olesen</td>\n      <td>liberal_alliance</td>\n      <td>2222188479</td>\n    </tr>\n    <tr>\n      <th>17</th>\n      <td>solbjorg_jakobsen</td>\n      <td>liberal_alliance</td>\n      <td>1548641745264644099</td>\n    </tr>\n    <tr>\n      <th>18</th>\n      <td>soren_pape</td>\n      <td>konservative</td>\n      <td>2712091824</td>\n    </tr>\n    <tr>\n      <th>19</th>\n      <td>mette_abildgaard</td>\n      <td>konservative</td>\n      <td>37877392</td>\n    </tr>\n    <tr>\n      <th>20</th>\n      <td>rasmus_jarlov</td>\n      <td>konservative</td>\n      <td>1225930531</td>\n    </tr>\n    <tr>\n      <th>21</th>\n      <td>pelle_dragsted</td>\n      <td>enhedslisten</td>\n      <td>119879630</td>\n    </tr>\n    <tr>\n      <th>22</th>\n      <td>mai_villadsen</td>\n      <td>enhedslisten</td>\n      <td>4724782641</td>\n    </tr>\n    <tr>\n      <th>23</th>\n      <td>rosa_lund</td>\n      <td>enhedslisten</td>\n      <td>736979161</td>\n    </tr>\n    <tr>\n      <th>24</th>\n      <td>martin_lidegaard</td>\n      <td>radikale</td>\n      <td>1070745218</td>\n    </tr>\n    <tr>\n      <th>25</th>\n      <td>samira_nawa</td>\n      <td>radikale</td>\n      <td>92107029</td>\n    </tr>\n    <tr>\n      <th>26</th>\n      <td>katrine_robsoe</td>\n      <td>radikale</td>\n      <td>2491403660</td>\n    </tr>\n    <tr>\n      <th>27</th>\n      <td>pernille_vermund</td>\n      <td>nye_borgerlige</td>\n      <td>24687777</td>\n    </tr>\n    <tr>\n      <th>28</th>\n      <td>lars_mathiesen</td>\n      <td>nye_borgerlige</td>\n      <td>980721900</td>\n    </tr>\n    <tr>\n      <th>29</th>\n      <td>kim_andersen</td>\n      <td>nye_borgerlige</td>\n      <td>783935815600799744</td>\n    </tr>\n    <tr>\n      <th>30</th>\n      <td>franciska_rosenkilde</td>\n      <td>alternativet</td>\n      <td>777113466205274112</td>\n    </tr>\n    <tr>\n      <th>31</th>\n      <td>christina_olumeko</td>\n      <td>alternativet</td>\n      <td>1324801335372488707</td>\n    </tr>\n    <tr>\n      <th>32</th>\n      <td>torsten_gejl</td>\n      <td>alternativet</td>\n      <td>2806864609</td>\n    </tr>\n    <tr>\n      <th>33</th>\n      <td>morten_messerschmidt</td>\n      <td>dansk_folkeparti</td>\n      <td>509288627</td>\n    </tr>\n    <tr>\n      <th>34</th>\n      <td>pia_kjarsgaard</td>\n      <td>dansk_folkeparti</td>\n      <td>1054640354690039809</td>\n    </tr>\n    <tr>\n      <th>35</th>\n      <td>peter_kofod</td>\n      <td>dansk_folkeparti</td>\n      <td>1613378210</td>\n    </tr>\n  </tbody>\n</table>\n</div>"
     },
     "metadata": {},
     "output_type": "display_data"
    }
   ]
  },
  {
   "cell_type": "markdown",
   "source": "The dataset is then created with the Twitter API using these ids and the code used for this is collected in the file `data_request.ipynb`. <font color=\"red\"> TODO </font> collect data retrieving code in py file and explain it here.\n\nThis results in multiple csv files for each politician looking like this:",
   "metadata": {
    "cell_id": "00010-d1399cac-72b2-48c0-94c1-614d6551c5c3",
    "deepnote_cell_type": "markdown",
    "deepnote_cell_height": 111.1875
   }
  },
  {
   "cell_type": "code",
   "metadata": {
    "cell_id": "00011-59ae6c9a-cbe3-4d1e-b95d-b8f2424d8b94",
    "deepnote_to_be_reexecuted": false,
    "source_hash": "992d51db",
    "execution_start": 1668253658407,
    "execution_millis": 797,
    "deepnote_cell_type": "code",
    "deepnote_cell_height": 473.578125,
    "deepnote_output_heights": [
     null,
     176
    ]
   },
   "source": "print(\"Example of data frame: \")\nexample_df = pd.read_csv(\"Data/alternativet/christina_olumeko_0.csv\", index_col=0)\ndisplay(example_df.head())\n\nprint(\"\\033[1mExample of tweet: \\033[0m\")\nprint(example_df.loc[0, \"text\"])",
   "execution_count": null,
   "outputs": [
    {
     "name": "stdout",
     "text": "Example of data frame: \n",
     "output_type": "stream"
    },
    {
     "data": {
      "text/plain": "    edit_history_tweet_ids                   id  \\\n0  ['1566066637933088769']  1566066637933088769   \n1  ['1566055972031922176']  1566055972031922176   \n2  ['1565978593318129665']  1565978593318129665   \n3  ['1565956735612985347']  1565956735612985347   \n4  ['1565947952501334018']  1565947952501334018   \n\n                                                text  \n0  Rigtig ærgerligt, at Socialdemokratiet dropper...  \n1  “Kommissionen for den glemte kvindekamp” under...  \n2  @Mhvid @SophieHAndersen Ja og særligt når komm...  \n3  Grineren video fra ⁦@Vejdirektoratet⁩. Lad os ...  \n4  @AFreltoft @politiken Dejligt at Københavns go...  ",
      "text/html": "<div>\n<style scoped>\n    .dataframe tbody tr th:only-of-type {\n        vertical-align: middle;\n    }\n\n    .dataframe tbody tr th {\n        vertical-align: top;\n    }\n\n    .dataframe thead th {\n        text-align: right;\n    }\n</style>\n<table border=\"1\" class=\"dataframe\">\n  <thead>\n    <tr style=\"text-align: right;\">\n      <th></th>\n      <th>edit_history_tweet_ids</th>\n      <th>id</th>\n      <th>text</th>\n    </tr>\n  </thead>\n  <tbody>\n    <tr>\n      <th>0</th>\n      <td>['1566066637933088769']</td>\n      <td>1566066637933088769</td>\n      <td>Rigtig ærgerligt, at Socialdemokratiet dropper...</td>\n    </tr>\n    <tr>\n      <th>1</th>\n      <td>['1566055972031922176']</td>\n      <td>1566055972031922176</td>\n      <td>“Kommissionen for den glemte kvindekamp” under...</td>\n    </tr>\n    <tr>\n      <th>2</th>\n      <td>['1565978593318129665']</td>\n      <td>1565978593318129665</td>\n      <td>@Mhvid @SophieHAndersen Ja og særligt når komm...</td>\n    </tr>\n    <tr>\n      <th>3</th>\n      <td>['1565956735612985347']</td>\n      <td>1565956735612985347</td>\n      <td>Grineren video fra ⁦@Vejdirektoratet⁩. Lad os ...</td>\n    </tr>\n    <tr>\n      <th>4</th>\n      <td>['1565947952501334018']</td>\n      <td>1565947952501334018</td>\n      <td>@AFreltoft @politiken Dejligt at Københavns go...</td>\n    </tr>\n  </tbody>\n</table>\n</div>"
     },
     "metadata": {},
     "output_type": "display_data"
    },
    {
     "name": "stdout",
     "text": "\u001b[1mExample of tweet: \u001b[0m\nRigtig ærgerligt, at Socialdemokratiet dropper at arbejde for mindre gadeparkering i København🚗Det optager nemlig meget plads, og er samtidig nødvendigt for at nå Københavns klimamål. Alternativet arbejder videre 🌱 #dkgreen https://t.co/lUB0dMk5ud\n",
     "output_type": "stream"
    }
   ]
  },
  {
   "cell_type": "markdown",
   "source": "### Cleaning the data",
   "metadata": {
    "cell_id": "00012-cf2669df-885b-4b1e-b1bc-30d3cac7d4ca",
    "deepnote_cell_type": "markdown",
    "deepnote_cell_height": 62
   }
  },
  {
   "cell_type": "markdown",
   "source": "As we are only interested in the text of each tweet, we will collect the text for each politician as a list of strings (tweets) and add it as a new column to the data. However, we would like to clean the text a bit before doing this, for this purpose we do the following:\n\n- only keep words and numbers, i.e. no emojis\n- remove punctuation, stopwords and urls\n- make all words lowercase\n\n<font color=\"red\"> Maybe we can use mrjob to do this? </font>",
   "metadata": {
    "cell_id": "00013-f6bffbf4-af79-41e3-9f2c-7a99e3627d68",
    "deepnote_cell_type": "markdown",
    "deepnote_cell_height": 198.390625
   }
  },
  {
   "cell_type": "code",
   "metadata": {
    "cell_id": "00014-1736f400-0a38-4739-be7b-5b2a3a504979",
    "deepnote_to_be_reexecuted": false,
    "source_hash": "e631e509",
    "execution_start": 1668253662885,
    "execution_millis": 2460,
    "deepnote_cell_type": "code",
    "deepnote_cell_height": 497.671875
   },
   "source": "t = example_df.loc[0, \"text\"]\n\nwnl = nltk.WordNetLemmatizer() \nSTOPWORDS = nltk.corpus.stopwords.words('danish') + [\"http\"]\n\ndef clean_tweet(tweet):\n    tokensraw = word_tokenize(tweet) #get tokens \n    tokens = [word.lower() for word in tokensraw if word.isalnum()] #only get words and numbers\n    tokens = [wnl.lemmatize(t) for t in tokens] #lemmatize tokens\n    tokens = [w for w in tokens if w.lower() not in STOPWORDS] #remove stopwords\n    return tokens\n\nprint(\"Original tweet: \\n\", t)\nprint(\"\\n\")\nprint(\"Clean tweet: \\n\" + \" \".join(clean_tweet(t)))\n\n",
   "execution_count": null,
   "outputs": [
    {
     "name": "stdout",
     "text": "Original tweet: \n Rigtig ærgerligt, at Socialdemokratiet dropper at arbejde for mindre gadeparkering i København🚗Det optager nemlig meget plads, og er samtidig nødvendigt for at nå Københavns klimamål. Alternativet arbejder videre 🌱 #dkgreen https://t.co/lUB0dMk5ud\n\n\nClean tweet: \nrigtig ærgerligt socialdemokratiet dropper arbejde mindre gadeparkering optager nemlig plads samtidig nødvendigt nå københavns klimamål alternativet arbejder videre dkgreen\n",
     "output_type": "stream"
    }
   ]
  },
  {
   "cell_type": "markdown",
   "source": "## 1. Word clouds",
   "metadata": {
    "cell_id": "00015-7dca44b3-5fff-4255-ae7c-e0d96946f030",
    "deepnote_cell_type": "markdown",
    "deepnote_cell_height": 70
   }
  },
  {
   "cell_type": "markdown",
   "source": "## 2. Clustering politicians",
   "metadata": {
    "cell_id": "00016-75778416-fc32-4aab-89d7-49c6e1b2d89c",
    "deepnote_cell_type": "markdown",
    "deepnote_cell_height": 70
   }
  },
  {
   "cell_type": "markdown",
   "source": "## 3. Candidate test",
   "metadata": {
    "cell_id": "00017-e5237734-9308-4407-b44e-d920f6dc3794",
    "deepnote_cell_type": "markdown",
    "deepnote_cell_height": 70
   }
  },
  {
   "cell_type": "markdown",
   "source": "<a style='text-decoration:none;line-height:16px;display:flex;color:#5B5B62;padding:10px;justify-content:end;' href='https://deepnote.com?utm_source=created-in-deepnote-cell&projectId=30797f9c-952e-45b4-98d4-31c9ac73ae78' target=\"_blank\">\n<img alt='Created in deepnote.com' style='display:inline;max-height:16px;margin:0px;margin-right:7.5px;' src='data:image/svg+xml;base64,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' > </img>\nCreated in <span style='font-weight:600;margin-left:4px;'>Deepnote</span></a>",
   "metadata": {
    "tags": [],
    "created_in_deepnote_cell": true,
    "deepnote_cell_type": "markdown"
   }
  }
 ],
 "nbformat": 4,
 "nbformat_minor": 0,
 "metadata": {
  "deepnote": {},
  "deepnote_execution_queue": [],
  "deepnote_full_width": false,
  "deepnote_notebook_id": "c6179c22-ca73-4f9f-be5e-78822f6bdcad",
  "deepnote_persisted_session": {
   "createdAt": "2022-11-12T13:02:24.865Z"
  },
  "kernelspec": {
   "display_name": "Python 3.10.4 ('CTDS')",
   "language": "python",
   "name": "python3"
  },
  "language_info": {
   "codemirror_mode": {
    "name": "ipython",
    "version": 3
   },
   "file_extension": ".py",
   "mimetype": "text/x-python",
   "name": "python",
   "nbconvert_exporter": "python",
   "pygments_lexer": "ipython3",
   "version": "3.10.4"
  },
  "orig_nbformat": 4,
  "vscode": {
   "interpreter": {
    "hash": "4afe9505fa8d767a52311069651b23562e3c6d640a47d925ec13b6a8d29304df"
   }
  }
 }
}