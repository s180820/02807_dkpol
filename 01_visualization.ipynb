{
 "cells": [
  {
   "cell_type": "markdown",
   "source": "# Visualization",
   "metadata": {
    "cell_id": "775b2f06dcb64819a097f59cb96277d2",
    "tags": [],
    "deepnote_cell_type": "markdown",
    "deepnote_cell_height": 81.80000305175781
   }
  },
  {
   "cell_type": "markdown",
   "source": "Here we calculate the values used for further analysis in the other notebooks. These will be visualized through Word Clouds and others.",
   "metadata": {
    "cell_id": "8a683edea74d409b94c57ec0ccbd03f2",
    "tags": [],
    "deepnote_cell_type": "markdown",
    "deepnote_cell_height": 74.60000610351562
   }
  },
  {
   "cell_type": "markdown",
   "source": "Similarity scores",
   "metadata": {
    "is_collapsed": false,
    "cell_id": "63a1e68467f34db7b24a25da32c0c39b",
    "tags": [],
    "formattedRanges": [],
    "deepnote_cell_type": "text-cell-p"
   }
  },
  {
   "cell_type": "markdown",
   "source": "Once we have a distance measure, either Jaccard or cosine, we can use minhashing (for Jaccard) or random\r\nhyperplanes (for cosine distance; see Section 3.7.2) feeding data to an LSH\r\nalgorithm to find the pairs of documents that are similar in the sense of\r\nsharing many common keywords.",
   "metadata": {
    "is_collapsed": false,
    "cell_id": "233c2be4-1bf0-4776-8e48-9ccd0e9abfb3",
    "tags": [],
    "formattedRanges": [],
    "deepnote_cell_type": "text-cell-p"
   }
  },
  {
   "cell_type": "markdown",
   "source": "## Similarity ",
   "metadata": {
    "formattedRanges": [],
    "is_collapsed": false,
    "cell_id": "c0e25573fe3b431f9ce781b01f6d55d6",
    "tags": [],
    "deepnote_cell_type": "text-cell-h2"
   }
  },
  {
   "cell_type": "markdown",
   "source": "When we examin the similarity of two tweets, we are not particularly interested in the \nlexical similarity, where two tweets are deemed very similar if they contain large, identical sequences of characters. Instead, we are interested in the content based similarity. ",
   "metadata": {
    "is_collapsed": false,
    "cell_id": "d8a2ca5a-a49a-41d4-80b7-22de819b16b5",
    "tags": [],
    "formattedRanges": [],
    "deepnote_cell_type": "text-cell-p"
   }
  },
  {
   "cell_type": "code",
   "metadata": {
    "cell_id": "0ca2cf8f08c64485a01f71a2212eeec9",
    "tags": [],
    "deepnote_cell_type": "code",
    "deepnote_cell_height": 60.80000305175781
   },
   "source": "",
   "execution_count": null,
   "outputs": []
  },
  {
   "cell_type": "code",
   "source": "from IPython.display import display\nimport pandas as pd\nimport requests\nimport re\nfrom urllib.request import urlopen\nimport csv\nimport os\nimport numpy as np\nimport matplotlib.pyplot as plt\n#from fa2 import ForceAtlas2\nfrom scipy import stats\nimport nltk\nfrom nltk import word_tokenize\nfrom nltk.corpus import stopwords\nimport io\nfrom tqdm import tqdm\nfrom heapq import nlargest \nimport seaborn as sns\nsns.set()",
   "metadata": {
    "cell_id": "a892c742b57644f8b58a8f1ad79777e3",
    "tags": [],
    "deepnote_to_be_reexecuted": false,
    "source_hash": "a600ca46",
    "execution_start": 1668431025097,
    "execution_millis": 3031,
    "deepnote_cell_type": "code",
    "deepnote_cell_height": 399.79998779296875
   },
   "outputs": [],
   "execution_count": null
  },
  {
   "cell_type": "code",
   "source": "example_df = pd.read_csv(\"Data/alternativet/christina_olumeko_0.csv\", index_col=0)\ndisplay(example_df.head())\n\nt = example_df.loc[0, \"text\"]\n\nwnl = nltk.WordNetLemmatizer() \nSTOPWORDS = nltk.corpus.stopwords.words('danish') + [\"http\"]\n\ndef clean_tweet(tweet):\n    tokensraw = word_tokenize(tweet) #get tokens \n    tokens = [word.lower() for word in tokensraw if word.isalnum()] #only get words and numbers\n    tokens = [wnl.lemmatize(t) for t in tokens] #lemmatize tokens\n    tokens = [w for w in tokens if w.lower() not in STOPWORDS] #remove stopwords\n    return tokens\n\ndoc = [clean_tweet(t) for t in example_df[\"text\"]]\n",
   "metadata": {
    "cell_id": "fc6fa05630564c79872d505cc8292632",
    "tags": [],
    "deepnote_to_be_reexecuted": false,
    "source_hash": "e5027db1",
    "execution_start": 1668433657499,
    "execution_millis": 67,
    "deepnote_cell_type": "code",
    "deepnote_cell_height": 677.5999755859375
   },
   "outputs": [
    {
     "data": {
      "application/vnd.deepnote.dataframe.v3+json": {
       "column_count": 3,
       "row_count": 5,
       "columns": [
        {
         "name": "edit_history_tweet_ids",
         "dtype": "object",
         "stats": {
          "unique_count": 5,
          "nan_count": 0,
          "categories": [
           {
            "name": "['1566066637933088769']",
            "count": 1
           },
           {
            "name": "['1566055972031922176']",
            "count": 1
           },
           {
            "name": "3 others",
            "count": 3
           }
          ]
         }
        },
        {
         "name": "id",
         "dtype": "int64",
         "stats": {
          "unique_count": 5,
          "nan_count": 0,
          "min": "1565947952501334018",
          "max": "1566066637933088769",
          "histogram": [
           {
            "bin_start": 1565947952501334000,
            "bin_end": 1565959821044509400,
            "count": 2
           },
           {
            "bin_start": 1565959821044509400,
            "bin_end": 1565971689587684900,
            "count": 0
           },
           {
            "bin_start": 1565971689587684900,
            "bin_end": 1565983558130860500,
            "count": 1
           },
           {
            "bin_start": 1565983558130860500,
            "bin_end": 1565995426674036000,
            "count": 0
           },
           {
            "bin_start": 1565995426674036000,
            "bin_end": 1566007295217211400,
            "count": 0
           },
           {
            "bin_start": 1566007295217211400,
            "bin_end": 1566019163760386800,
            "count": 0
           },
           {
            "bin_start": 1566019163760386800,
            "bin_end": 1566031032303562200,
            "count": 0
           },
           {
            "bin_start": 1566031032303562200,
            "bin_end": 1566042900846738000,
            "count": 0
           },
           {
            "bin_start": 1566042900846738000,
            "bin_end": 1566054769389913300,
            "count": 0
           },
           {
            "bin_start": 1566054769389913300,
            "bin_end": 1566066637933088800,
            "count": 2
           }
          ]
         }
        },
        {
         "name": "text",
         "dtype": "object",
         "stats": {
          "unique_count": 5,
          "nan_count": 0,
          "categories": [
           {
            "name": "Rigtig ærgerligt, at Socialdemokratiet dropper at arbejde for mindre gadeparkering i København🚗Det optager nemlig meget plads, og er samtidig nødvendigt for at nå Københavns klimamål. Alternativet arbejder videre 🌱 #dkgreen https://t.co/lUB0dMk5ud",
            "count": 1
           },
           {
            "name": "“Kommissionen for den glemte kvindekamp” underminerer hele tilliden til kommissioner. Kommissioner bør være uafhængige af partier og gennemsyret af fagkundskab #dkpol",
            "count": 1
           },
           {
            "name": "3 others",
            "count": 3
           }
          ]
         }
        },
        {
         "name": "_deepnote_index_column",
         "dtype": "int64"
        }
       ],
       "rows": [
        {
         "edit_history_tweet_ids": "['1566066637933088769']",
         "id": "1566066637933088769",
         "text": "Rigtig ærgerligt, at Socialdemokratiet dropper at arbejde for mindre gadeparkering i København🚗Det optager nemlig meget plads, og er samtidig nødvendigt for at nå Københavns klimamål. Alternativet arbejder videre 🌱 #dkgreen https://t.co/lUB0dMk5ud",
         "_deepnote_index_column": "0"
        },
        {
         "edit_history_tweet_ids": "['1566055972031922176']",
         "id": "1566055972031922176",
         "text": "“Kommissionen for den glemte kvindekamp” underminerer hele tilliden til kommissioner. Kommissioner bør være uafhængige af partier og gennemsyret af fagkundskab #dkpol",
         "_deepnote_index_column": "1"
        },
        {
         "edit_history_tweet_ids": "['1565978593318129665']",
         "id": "1565978593318129665",
         "text": "@Mhvid @SophieHAndersen Ja og særligt når kommunens egne klimaanalyser viser, at det er et væsentligt værktøj til at reducere CO2-udledningen 🌏",
         "_deepnote_index_column": "2"
        },
        {
         "edit_history_tweet_ids": "['1565956735612985347']",
         "id": "1565956735612985347",
         "text": "Grineren video fra ⁦@Vejdirektoratet⁩. Lad os gøre det mere attraktivt at tage delebilen og køre sammen 🚗  Vi kan gøre meget politisk #dktrp #dkgreen  https://t.co/aTs6KSg3Rs",
         "_deepnote_index_column": "3"
        },
        {
         "edit_history_tweet_ids": "['1565947952501334018']",
         "id": "1565947952501334018",
         "text": "@AFreltoft @politiken Dejligt at Københavns gode eksempel kom med i guiden ;)",
         "_deepnote_index_column": "4"
        }
       ]
      },
      "text/plain": "    edit_history_tweet_ids                   id  \\\n0  ['1566066637933088769']  1566066637933088769   \n1  ['1566055972031922176']  1566055972031922176   \n2  ['1565978593318129665']  1565978593318129665   \n3  ['1565956735612985347']  1565956735612985347   \n4  ['1565947952501334018']  1565947952501334018   \n\n                                                text  \n0  Rigtig ærgerligt, at Socialdemokratiet dropper...  \n1  “Kommissionen for den glemte kvindekamp” under...  \n2  @Mhvid @SophieHAndersen Ja og særligt når komm...  \n3  Grineren video fra ⁦@Vejdirektoratet⁩. Lad os ...  \n4  @AFreltoft @politiken Dejligt at Københavns go...  ",
      "text/html": "<div>\n<style scoped>\n    .dataframe tbody tr th:only-of-type {\n        vertical-align: middle;\n    }\n\n    .dataframe tbody tr th {\n        vertical-align: top;\n    }\n\n    .dataframe thead th {\n        text-align: right;\n    }\n</style>\n<table border=\"1\" class=\"dataframe\">\n  <thead>\n    <tr style=\"text-align: right;\">\n      <th></th>\n      <th>edit_history_tweet_ids</th>\n      <th>id</th>\n      <th>text</th>\n    </tr>\n  </thead>\n  <tbody>\n    <tr>\n      <th>0</th>\n      <td>['1566066637933088769']</td>\n      <td>1566066637933088769</td>\n      <td>Rigtig ærgerligt, at Socialdemokratiet dropper...</td>\n    </tr>\n    <tr>\n      <th>1</th>\n      <td>['1566055972031922176']</td>\n      <td>1566055972031922176</td>\n      <td>“Kommissionen for den glemte kvindekamp” under...</td>\n    </tr>\n    <tr>\n      <th>2</th>\n      <td>['1565978593318129665']</td>\n      <td>1565978593318129665</td>\n      <td>@Mhvid @SophieHAndersen Ja og særligt når komm...</td>\n    </tr>\n    <tr>\n      <th>3</th>\n      <td>['1565956735612985347']</td>\n      <td>1565956735612985347</td>\n      <td>Grineren video fra ⁦@Vejdirektoratet⁩. Lad os ...</td>\n    </tr>\n    <tr>\n      <th>4</th>\n      <td>['1565947952501334018']</td>\n      <td>1565947952501334018</td>\n      <td>@AFreltoft @politiken Dejligt at Københavns go...</td>\n    </tr>\n  </tbody>\n</table>\n</div>"
     },
     "metadata": {},
     "output_type": "display_data"
    }
   ],
   "execution_count": null
  },
  {
   "cell_type": "code",
   "source": "import difflib\n\ndef string_similarity(str1, str2):\n    result =  difflib.SequenceMatcher(str1, str2)\n    return result.ratio()",
   "metadata": {
    "cell_id": "efb32c0ea8bc462298c3cbd0c0d73d16",
    "tags": [],
    "deepnote_to_be_reexecuted": false,
    "source_hash": "cf7ac9c",
    "execution_start": 1668433730005,
    "execution_millis": 2,
    "deepnote_cell_type": "code",
    "deepnote_cell_height": 147.8000030517578
   },
   "outputs": [],
   "execution_count": null
  },
  {
   "cell_type": "markdown",
   "source": "# Jaccard , men fungerer ikke med sammensatte ord dvs. klimaanalyse og klimapolitik er ikke et match. ",
   "metadata": {
    "is_collapsed": false,
    "cell_id": "53aebc9be76c4099992e7ad3bf853bec",
    "tags": [],
    "formattedRanges": [],
    "deepnote_cell_type": "text-cell-h1"
   }
  },
  {
   "cell_type": "code",
   "source": "ss = 'kommunens egne klima analyser'\ns = 'indlæg klima politik ældresagen'",
   "metadata": {
    "cell_id": "db55bd5b5f0e450d9c7cece40d9a35a8",
    "tags": [],
    "deepnote_to_be_reexecuted": false,
    "source_hash": "63abe5f",
    "execution_start": 1668434030831,
    "execution_millis": 0,
    "deepnote_cell_type": "code",
    "deepnote_cell_height": 93.80000305175781,
    "deepnote_output_heights": [
     20
    ]
   },
   "outputs": [],
   "execution_count": null
  },
  {
   "cell_type": "code",
   "source": "def jaccard_similarity(x,y):\n  \"\"\" returns the jaccard similarity between two lists \"\"\"\n  intersection_cardinality = len(set.intersection(*[set(x), set(y)]))\n  union_cardinality = len(set.union(*[set(x), set(y)]))\n  return intersection_cardinality/float(union_cardinality)",
   "metadata": {
    "cell_id": "d3bdf5289f704cb1b7b02760ac0d5d06",
    "tags": [],
    "deepnote_to_be_reexecuted": false,
    "source_hash": "f583e81a",
    "execution_start": 1668434032265,
    "execution_millis": 1,
    "deepnote_cell_type": "code",
    "deepnote_cell_height": 147.8000030517578
   },
   "outputs": [],
   "execution_count": null
  },
  {
   "cell_type": "code",
   "source": "sentences = [s,ss]\nsentences = [sent.lower().split(\" \") for sent in sentences]\njaccard_similarity(sentences[0], sentences[1])\n\n",
   "metadata": {
    "cell_id": "281164e514e94c9383aafcccb2cdb861",
    "tags": [],
    "deepnote_to_be_reexecuted": false,
    "source_hash": "9f72a1c5",
    "execution_start": 1668434033649,
    "execution_millis": 704,
    "deepnote_cell_type": "code",
    "deepnote_cell_height": 183.6999969482422,
    "deepnote_output_heights": [
     20
    ]
   },
   "outputs": [
    {
     "output_type": "execute_result",
     "execution_count": 74,
     "data": {
      "text/plain": "0.14285714285714285"
     },
     "metadata": {}
    }
   ],
   "execution_count": null
  },
  {
   "cell_type": "code",
   "source": "# headlines = tweets\n\nheadlines = [\n#Crypto\n'Investors unfazed by correction as crypto funds see $154 million inflows',\n'Bitcoin, Ethereum prices continue descent, but crypto funds see inflows',\n \n#Inflation\n'The surge in euro area inflation during the pandemic: transitory but with upside risks',\n\"Inflation: why it's temporary and raising interest rates will do more harm than good\",\n \n#common\n'Will Cryptocurrency Protect Against Inflation?']",
   "metadata": {
    "cell_id": "5140566c20ac47efae50d44fc0f85803",
    "tags": [],
    "deepnote_to_be_reexecuted": false,
    "source_hash": "e307a2ca",
    "execution_start": 1668433809035,
    "execution_millis": 0,
    "deepnote_cell_type": "code",
    "deepnote_cell_height": 291.79998779296875,
    "deepnote_output_heights": [
     20
    ]
   },
   "outputs": [],
   "execution_count": null
  },
  {
   "cell_type": "code",
   "source": "similarity = difflib.SequenceMatcher(None, \"abcdef\", \"abcabc\").ratio()\n\n\ndocs = [nlp(headline) for headline in headlines]",
   "metadata": {
    "cell_id": "ec190be2ee4c4db0a04defd77d2164dd",
    "tags": [],
    "deepnote_to_be_reexecuted": false,
    "source_hash": "d72e4291",
    "execution_start": 1668433926074,
    "execution_millis": 29,
    "deepnote_cell_type": "code",
    "deepnote_cell_height": 192.89999389648438
   },
   "outputs": [
    {
     "output_type": "error",
     "ename": "NameError",
     "evalue": "name 'spacy' is not defined",
     "traceback": [
      "\u001b[0;31m---------------------------------------------------------------------------\u001b[0m",
      "\u001b[0;31mNameError\u001b[0m                                 Traceback (most recent call last)",
      "Cell \u001b[0;32mIn [71], line 1\u001b[0m\n\u001b[0;32m----> 1\u001b[0m nlp \u001b[38;5;241m=\u001b[39m \u001b[43mspacy\u001b[49m\u001b[38;5;241m.\u001b[39mload(\u001b[38;5;124m'\u001b[39m\u001b[38;5;124men_core_web_md\u001b[39m\u001b[38;5;124m'\u001b[39m)\n\u001b[1;32m      2\u001b[0m docs \u001b[38;5;241m=\u001b[39m [nlp(headline) \u001b[38;5;28;01mfor\u001b[39;00m headline \u001b[38;5;129;01min\u001b[39;00m headlines]\n",
      "\u001b[0;31mNameError\u001b[0m: name 'spacy' is not defined"
     ]
    }
   ],
   "execution_count": null
  },
  {
   "cell_type": "code",
   "source": "",
   "metadata": {
    "cell_id": "76f618f5df304f4e8b40dd125306c6dd",
    "tags": [],
    "deepnote_cell_type": "code",
    "deepnote_cell_height": 60.80000305175781
   },
   "outputs": [],
   "execution_count": null
  },
  {
   "cell_type": "markdown",
   "source": "<a style='text-decoration:none;line-height:16px;display:flex;color:#5B5B62;padding:10px;justify-content:end;' href='https://deepnote.com?utm_source=created-in-deepnote-cell&projectId=30797f9c-952e-45b4-98d4-31c9ac73ae78' target=\"_blank\">\n<img alt='Created in deepnote.com' style='display:inline;max-height:16px;margin:0px;margin-right:7.5px;' src='data:image/svg+xml;base64,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' > </img>\nCreated in <span style='font-weight:600;margin-left:4px;'>Deepnote</span></a>",
   "metadata": {
    "tags": [],
    "created_in_deepnote_cell": true,
    "deepnote_cell_type": "markdown"
   }
  }
 ],
 "nbformat": 4,
 "nbformat_minor": 2,
 "metadata": {
  "kernelspec": {
   "display_name": "Python 3.10.6 64-bit",
   "language": "python",
   "name": "python3"
  },
  "language_info": {
   "codemirror_mode": {
    "name": "ipython",
    "version": 3
   },
   "file_extension": ".py",
   "mimetype": "text/x-python",
   "name": "python",
   "nbconvert_exporter": "python",
   "pygments_lexer": "ipython3",
   "version": "3.10.6"
  },
  "orig_nbformat": 4,
  "vscode": {
   "interpreter": {
    "hash": "b0fa6594d8f4cbf19f97940f81e996739fb7646882a419484c72d19e05852a7e"
   }
  },
  "deepnote_notebook_id": "b0fd5dac-7e9f-47dc-b340-ced63ddc89c8",
  "deepnote": {},
  "deepnote_execution_queue": [],
  "deepnote_persisted_session": {
   "createdAt": "2022-11-14T14:17:40.528Z"
  }
 }
}