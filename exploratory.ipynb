{
 "cells": [
  {
   "cell_type": "markdown",
   "source": "# Exploratory notebook",
   "metadata": {
    "formattedRanges": [],
    "tags": [],
    "cell_id": "f97f399c731d4ff7a3c8197c0381a251",
    "is_collapsed": false,
    "deepnote_cell_type": "text-cell-h1"
   }
  },
  {
   "cell_type": "markdown",
   "source": "",
   "metadata": {
    "formattedRanges": [],
    "tags": [],
    "cell_id": "ceb350e72cc941dd9c55d4939bcbe802",
    "is_collapsed": false,
    "deepnote_cell_type": "text-cell-p"
   }
  },
  {
   "cell_type": "markdown",
   "source": "## Problem formulation",
   "metadata": {
    "formattedRanges": [],
    "tags": [],
    "cell_id": "c7a481826bd044e19ceb6464fdc46014",
    "is_collapsed": false,
    "deepnote_cell_type": "text-cell-h2"
   }
  },
  {
   "cell_type": "markdown",
   "source": "Data set creation",
   "metadata": {
    "formattedRanges": [
     {
      "type": "marks",
      "marks": {
       "underline": true
      },
      "toCodePoint": 17,
      "fromCodePoint": 0
     }
    ],
    "tags": [],
    "cell_id": "bb9a8f55c5fd45a29f253f9112217bb4",
    "is_collapsed": false,
    "deepnote_cell_type": "text-cell-p"
   }
  },
  {
   "cell_type": "markdown",
   "source": "- Use tweets from the top 5 politicians by vote from each party with at least 5 mandates as of the 2022 election.",
   "metadata": {
    "formattedRanges": [],
    "tags": [],
    "cell_id": "492c3756ee884032bdfe3c5005cb1dff",
    "is_collapsed": false,
    "deepnote_cell_type": "text-cell-bullet"
   }
  },
  {
   "cell_type": "markdown",
   "source": "- The gathered tweets will be restricted by date, e.g. no tweets older than 2 years",
   "metadata": {
    "formattedRanges": [],
    "tags": [],
    "cell_id": "5b2be9c741de4f648ba23c1cc88c4814",
    "is_collapsed": false,
    "deepnote_cell_type": "text-cell-bullet"
   }
  },
  {
   "cell_type": "markdown",
   "source": "Problem ideas",
   "metadata": {
    "formattedRanges": [
     {
      "type": "marks",
      "marks": {
       "underline": true
      },
      "toCodePoint": 13,
      "fromCodePoint": 0
     }
    ],
    "tags": [],
    "cell_id": "71316fb0743f4da097fcf10636749a74",
    "is_collapsed": false,
    "deepnote_cell_type": "text-cell-p"
   }
  },
  {
   "cell_type": "markdown",
   "source": "- Create a candidacy test based on the politicians' tweets",
   "metadata": {
    "formattedRanges": [],
    "tags": [],
    "cell_id": "f0053cc89a134d8aac08afb41983544f",
    "is_collapsed": false,
    "deepnote_cell_type": "text-cell-bullet"
   }
  },
  {
   "cell_type": "markdown",
   "source": "- Cluster politicians based on the words used in their tweets - do these clusters match their parties?",
   "metadata": {
    "formattedRanges": [],
    "tags": [],
    "cell_id": "71303ffe20fc4f1c834a87c7ed19a013",
    "is_collapsed": false,
    "deepnote_cell_type": "text-cell-bullet"
   }
  },
  {
   "cell_type": "markdown",
   "source": "- Can we recognize some \"mærkesager\" through the tweets",
   "metadata": {
    "formattedRanges": [],
    "tags": [],
    "cell_id": "f357b64952424b0583a1084ee2e94170",
    "is_collapsed": false,
    "deepnote_cell_type": "text-cell-bullet"
   }
  },
  {
   "cell_type": "markdown",
   "source": "Ideas for creating a solution",
   "metadata": {
    "formattedRanges": [
     {
      "type": "marks",
      "marks": {
       "underline": true
      },
      "toCodePoint": 29,
      "fromCodePoint": 0
     }
    ],
    "tags": [],
    "cell_id": "fe08acbf35974a99bad9cc0cb992c562",
    "is_collapsed": false,
    "deepnote_cell_type": "text-cell-p"
   }
  },
  {
   "cell_type": "markdown",
   "source": "- A recommender system is created based on a tweet and the tweets of politicians to form a candidacy test. Here similar items can be used to obtain a similarity score used by the recommender system.",
   "metadata": {
    "formattedRanges": [
     {
      "type": "marks",
      "marks": {
       "bold": true
      },
      "toCodePoint": 20,
      "fromCodePoint": 2
     },
     {
      "type": "marks",
      "marks": {
       "bold": true
      },
      "toCodePoint": 123,
      "fromCodePoint": 110
     },
     {
      "type": "marks",
      "marks": {
       "bold": true
      },
      "toCodePoint": 164,
      "fromCodePoint": 148
     }
    ],
    "tags": [],
    "cell_id": "adbfd63c676e4b06890f0aaa9eb81cc7",
    "is_collapsed": false,
    "deepnote_cell_type": "text-cell-bullet"
   }
  },
  {
   "cell_type": "markdown",
   "source": "- Different clustering techniques taught in the course will be used to cluster the politicians",
   "metadata": {
    "formattedRanges": [
     {
      "type": "marks",
      "marks": {
       "bold": true
      },
      "toCodePoint": 20,
      "fromCodePoint": 10
     }
    ],
    "tags": [],
    "cell_id": "e6146bc8efa749b2b9cb1dd9b7ca6cc6",
    "is_collapsed": false,
    "deepnote_cell_type": "text-cell-bullet"
   }
  },
  {
   "cell_type": "markdown",
   "source": "- Word clouds for each party/politician reveal the words they used the most and using frequent itemsets we may recognize a \"mærkesag\"",
   "metadata": {
    "formattedRanges": [],
    "tags": [],
    "cell_id": "cee8e2d3028d46329cd9e9896a449b48",
    "is_collapsed": false,
    "deepnote_cell_type": "text-cell-bullet"
   }
  },
  {
   "cell_type": "markdown",
   "source": "## Twitter ids",
   "metadata": {
    "formattedRanges": [],
    "tags": [],
    "cell_id": "f1cbb2fa9ed64f6fae1ffb7b5c3ae9ef",
    "is_collapsed": false,
    "deepnote_cell_type": "text-cell-h2"
   }
  },
  {
   "cell_type": "markdown",
   "source": "Here's a list of the twitter id for the top 3 candidates from each of the parties with at least 5 \"mandater\" in \"folketinget\" after the 2022 election.",
   "metadata": {
    "formattedRanges": [],
    "tags": [],
    "cell_id": "4fa1979fe0a24310bdc2a7434989817f",
    "is_collapsed": false,
    "deepnote_cell_type": "text-cell-p"
   }
  },
  {
   "cell_type": "markdown",
   "source": "The list is based on  https://www.dr.dk/nyheder/politik/folketingsvalg/valgte",
   "metadata": {
    "formattedRanges": [
     {
      "url": "https://www.dr.dk/nyheder/politik/folketingsvalg/valgte",
      "type": "link",
      "ranges": [],
      "toCodePoint": 77,
      "fromCodePoint": 22
     }
    ],
    "tags": [],
    "cell_id": "15212d5f420c491f93f6d79afc5e98b8",
    "is_collapsed": false,
    "deepnote_cell_type": "text-cell-p"
   }
  },
  {
   "cell_type": "markdown",
   "source": "",
   "metadata": {
    "formattedRanges": [],
    "tags": [],
    "cell_id": "8ae91e9b84234d44a0476cf0f9873a1e",
    "is_collapsed": false,
    "deepnote_cell_type": "text-cell-p"
   }
  },
  {
   "cell_type": "code",
   "metadata": {
    "tags": [],
    "cell_id": "43798eb7ba634caca52646b930440512",
    "source_hash": "75e89389",
    "execution_start": 1667939321710,
    "execution_millis": 254,
    "deepnote_to_be_reexecuted": false,
    "deepnote_cell_type": "code",
    "deepnote_cell_height": 786
   },
   "source": "from Data.twitter_ids import twitter_ids\n\nfor parti in twitter_ids:\n    for person in twitter_ids[parti]:\n        print(person)\n        print(twitter_ids[parti][person])",
   "execution_count": null,
   "outputs": [
    {
     "name": "stdout",
     "text": "magnus_heunicke\n22695562\nnicolai_wammen\n2803948786\nmattias_tesfaye\n546254893\njakob_ellemann\n155584627\nsoren_gade\n975064362359623680\nsophie_lohde\n44611200\nlars_lokke\n26201346\nhenrik_frandsen\n1249019841924734977\nrosa_eriksen\n1560192117858861056\njacob_mark\n2373406198\npia_dyhr\n65025162\nkirsten_andersen\n235646319\ndennis_flydtkjær\n531595033\npeter_skaarup\n3144074691\nsoren_espersen\n2444718215\nalex_vanopslagh\n1531564633\nole_olesen\n2222188479\nsolbjorg_jakobsen\n1548641745264644099\nsoren_pape\n2712091824\nmette_abildgaard\n37877392\nrasmus_jarlov\n1225930531\npelle_dragsted\n119879630\nmai_villadsen\n4724782641\nrosa_lund\n736979161\nmartin_lidegaard\n1070745218\nsamira_nawa\n92107029\nkatrine_robsoe\n2491403660\npernille_vermund\n24687777\nlars_mathiesen\n980721900\nkim_andersen\n783935815600799744\nfranciska_rosenkilde\n777113466205274112\nchristina_olumeko\n1324801335372488707\ntorsten_gejl\n2806864609\nmorten_messerschmidt\n509288627\npia_kjarsgaard\n1054640354690039809\npeter_kofod\n1613378210\n",
     "output_type": "stream"
    }
   ]
  },
  {
   "cell_type": "code",
   "metadata": {
    "tags": [],
    "cell_id": "9cc422bd557747eaa1094445b85e32df",
    "deepnote_cell_type": "code",
    "deepnote_cell_height": 61
   },
   "source": "",
   "execution_count": null,
   "outputs": []
  },
  {
   "cell_type": "markdown",
   "source": "<a style='text-decoration:none;line-height:16px;display:flex;color:#5B5B62;padding:10px;justify-content:end;' href='https://deepnote.com?utm_source=created-in-deepnote-cell&projectId=30797f9c-952e-45b4-98d4-31c9ac73ae78' target=\"_blank\">\n<img alt='Created in deepnote.com' style='display:inline;max-height:16px;margin:0px;margin-right:7.5px;' src='data:image/svg+xml;base64,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' > </img>\nCreated in <span style='font-weight:600;margin-left:4px;'>Deepnote</span></a>",
   "metadata": {
    "tags": [],
    "created_in_deepnote_cell": true,
    "deepnote_cell_type": "markdown"
   }
  }
 ],
 "nbformat": 4,
 "nbformat_minor": 0,
 "metadata": {
  "vscode": {
   "interpreter": {
    "hash": "b0fa6594d8f4cbf19f97940f81e996739fb7646882a419484c72d19e05852a7e"
   }
  },
  "deepnote": {},
  "kernelspec": {
   "name": "python3",
   "language": "python",
   "display_name": "Python 3.10.6 64-bit"
  },
  "language_info": {
   "name": "python",
   "version": "3.10.6",
   "mimetype": "text/x-python",
   "file_extension": ".py",
   "pygments_lexer": "ipython3",
   "codemirror_mode": {
    "name": "ipython",
    "version": 3
   },
   "nbconvert_exporter": "python"
  },
  "orig_nbformat": 4,
  "deepnote_full_width": false,
  "deepnote_notebook_id": "219e20b7de234474b7b946dedc29d287",
  "deepnote_execution_queue": [],
  "deepnote_persisted_session": {
   "createdAt": "2022-11-08T20:46:41.297Z"
  }
 }
}