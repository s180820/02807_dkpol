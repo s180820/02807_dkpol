{
 "cells": [
  {
   "cell_type": "markdown",
   "source": "# Data notebook",
   "metadata": {
    "is_collapsed": false,
    "tags": [],
    "cell_id": "44104547-023c-4ddf-bd9f-397376a16c28",
    "formattedRanges": [],
    "deepnote_cell_type": "text-cell-h1"
   }
  },
  {
   "cell_type": "markdown",
   "source": "",
   "metadata": {
    "is_collapsed": false,
    "tags": [],
    "cell_id": "893a37b5-ed1f-41f1-97ba-339a15a6c015",
    "formattedRanges": [],
    "deepnote_cell_type": "text-cell-p"
   }
  },
  {
   "cell_type": "markdown",
   "source": "## Setup",
   "metadata": {
    "cell_id": "fa0d01f06978475b8b3649e044988f56",
    "tags": [],
    "deepnote_cell_type": "markdown",
    "deepnote_cell_height": 70
   }
  },
  {
   "cell_type": "code",
   "source": "!python -m pip install tqdm requests nltk\nimport nltk\nnltk.download('punkt')\nnltk.download('stopwords')\nnltk.download('wordnet')\nnltk.download('averaged_perceptron_tagger')\nnltk.download('omw-1.4')",
   "metadata": {
    "cell_id": "49948d0c95f74d939197fc7908857d7b",
    "tags": [],
    "deepnote_cell_type": "code",
    "deepnote_cell_height": 169
   },
   "outputs": [],
   "execution_count": null
  },
  {
   "cell_type": "code",
   "source": "from IPython.display import display\nimport pandas as pd\nimport requests\nimport re\nfrom urllib.request import urlopen\nimport csv\nimport os\nimport numpy as np\nimport matplotlib.pyplot as plt\n#from fa2 import ForceAtlas2\nfrom scipy import stats\nimport nltk\nfrom nltk import word_tokenize\nfrom nltk.corpus import stopwords\nimport io\nfrom tqdm import tqdm\nfrom heapq import nlargest \nimport seaborn as sns\nsns.set()",
   "metadata": {
    "cell_id": "5831d688d4ec40f8a157536ddfb1ce81",
    "tags": [],
    "deepnote_to_be_reexecuted": false,
    "source_hash": "a600ca46",
    "execution_start": 1668254660699,
    "execution_millis": 2584,
    "deepnote_cell_type": "code",
    "deepnote_cell_height": 400
   },
   "outputs": [],
   "execution_count": 1
  },
  {
   "cell_type": "markdown",
   "source": "## Getting the data",
   "metadata": {
    "cell_id": "74ceb02bffce4e0896ea411e21f325f2",
    "tags": [],
    "deepnote_cell_type": "markdown",
    "deepnote_cell_height": 70
   }
  },
  {
   "cell_type": "markdown",
   "source": "Based on https://www.dr.dk/nyheder/politik/folketingsvalg/valgte a list of the top 3 politicians by vote from each party with at least 5 mandates as of the 2022 danish election is created. \n\nData is collected using the <font color=\"red\"> TODO </font> twitter API. \n\nAs the twitter API needs the twitter user id to collect tweets, the twitter user ids are manually collected using the [\"Find Twitter ID\"](https://www.codeofaninja.com/tools/find-twitter-id/) by [CodeOfaNinja](https://www.codeofaninja.com/).\n\nThe resulting politicians and their twitter ids are seen in the dataframe below.\n\nWe observe that we have 12 different parties and 36 politicians in total.",
   "metadata": {
    "cell_id": "97f758fcb5e24b53a320965b73ba3434",
    "tags": [],
    "deepnote_cell_type": "markdown",
    "deepnote_cell_height": 242.765625
   }
  },
  {
   "cell_type": "code",
   "source": "from Data.twitter_ids import twitter_ids\n\ntwitter_id_df = pd.DataFrame(columns=['name', \"party\", 'twitter_id'])\ni = 0\nfor party in twitter_ids:\n    for person in twitter_ids[party]:\n        twitter_id_df.loc[i, :] = [person, party, twitter_ids[party][person]]\n        i += 1\n\ndisplay(twitter_id_df)",
   "metadata": {
    "cell_id": "f313b9778e334d7e90a647085aeadc8a",
    "tags": [],
    "deepnote_to_be_reexecuted": false,
    "source_hash": "e781c1d6",
    "execution_start": 1668254412920,
    "execution_millis": 28,
    "deepnote_cell_type": "code",
    "deepnote_cell_height": 762
   },
   "outputs": [
    {
     "data": {
      "application/vnd.deepnote.dataframe.v3+json": {
       "column_count": 3,
       "row_count": 36,
       "columns": [
        {
         "name": "name",
         "dtype": "object",
         "stats": {
          "unique_count": 36,
          "nan_count": 0,
          "categories": [
           {
            "name": "magnus_heunicke",
            "count": 1
           },
           {
            "name": "nicolai_wammen",
            "count": 1
           },
           {
            "name": "34 others",
            "count": 34
           }
          ]
         }
        },
        {
         "name": "party",
         "dtype": "object",
         "stats": {
          "unique_count": 12,
          "nan_count": 0,
          "categories": [
           {
            "name": "socialdemokratiet",
            "count": 3
           },
           {
            "name": "venstre",
            "count": 3
           },
           {
            "name": "10 others",
            "count": 30
           }
          ]
         }
        },
        {
         "name": "twitter_id",
         "dtype": "object",
         "stats": {
          "unique_count": 36,
          "nan_count": 0,
          "categories": [
           {
            "name": "22695562",
            "count": 1
           },
           {
            "name": "2803948786",
            "count": 1
           },
           {
            "name": "34 others",
            "count": 34
           }
          ]
         }
        },
        {
         "name": "_deepnote_index_column",
         "dtype": "int64"
        }
       ],
       "rows": [
        {
         "name": "magnus_heunicke",
         "party": "socialdemokratiet",
         "twitter_id": "22695562",
         "_deepnote_index_column": "0"
        },
        {
         "name": "nicolai_wammen",
         "party": "socialdemokratiet",
         "twitter_id": "2803948786",
         "_deepnote_index_column": "1"
        },
        {
         "name": "mattias_tesfaye",
         "party": "socialdemokratiet",
         "twitter_id": "546254893",
         "_deepnote_index_column": "2"
        },
        {
         "name": "jakob_ellemann",
         "party": "venstre",
         "twitter_id": "155584627",
         "_deepnote_index_column": "3"
        },
        {
         "name": "soren_gade",
         "party": "venstre",
         "twitter_id": "975064362359623680",
         "_deepnote_index_column": "4"
        },
        {
         "name": "sophie_lohde",
         "party": "venstre",
         "twitter_id": "44611200",
         "_deepnote_index_column": "5"
        },
        {
         "name": "lars_lokke",
         "party": "moderaterne",
         "twitter_id": "26201346",
         "_deepnote_index_column": "6"
        },
        {
         "name": "henrik_frandsen",
         "party": "moderaterne",
         "twitter_id": "1249019841924734977",
         "_deepnote_index_column": "7"
        },
        {
         "name": "rosa_eriksen",
         "party": "moderaterne",
         "twitter_id": "1560192117858861056",
         "_deepnote_index_column": "8"
        },
        {
         "name": "jacob_mark",
         "party": "sf",
         "twitter_id": "2373406198",
         "_deepnote_index_column": "9"
        }
       ]
      },
      "text/plain": "                    name                 party           twitter_id\n0        magnus_heunicke     socialdemokratiet             22695562\n1         nicolai_wammen     socialdemokratiet           2803948786\n2        mattias_tesfaye     socialdemokratiet            546254893\n3         jakob_ellemann               venstre            155584627\n4             soren_gade               venstre   975064362359623680\n5           sophie_lohde               venstre             44611200\n6             lars_lokke           moderaterne             26201346\n7        henrik_frandsen           moderaterne  1249019841924734977\n8           rosa_eriksen           moderaterne  1560192117858861056\n9             jacob_mark                    sf           2373406198\n10              pia_dyhr                    sf             65025162\n11      kirsten_andersen                    sf            235646319\n12      dennis_flydtkjær  danmarksdemokraterne            531595033\n13         peter_skaarup  danmarksdemokraterne           3144074691\n14        soren_espersen  danmarksdemokraterne           2444718215\n15       alex_vanopslagh      liberal_alliance           1531564633\n16            ole_olesen      liberal_alliance           2222188479\n17     solbjorg_jakobsen      liberal_alliance  1548641745264644099\n18            soren_pape          konservative           2712091824\n19      mette_abildgaard          konservative             37877392\n20         rasmus_jarlov          konservative           1225930531\n21        pelle_dragsted          enhedslisten            119879630\n22         mai_villadsen          enhedslisten           4724782641\n23             rosa_lund          enhedslisten            736979161\n24      martin_lidegaard              radikale           1070745218\n25           samira_nawa              radikale             92107029\n26        katrine_robsoe              radikale           2491403660\n27      pernille_vermund        nye_borgerlige             24687777\n28        lars_mathiesen        nye_borgerlige            980721900\n29          kim_andersen        nye_borgerlige   783935815600799744\n30  franciska_rosenkilde          alternativet   777113466205274112\n31     christina_olumeko          alternativet  1324801335372488707\n32          torsten_gejl          alternativet           2806864609\n33  morten_messerschmidt      dansk_folkeparti            509288627\n34        pia_kjarsgaard      dansk_folkeparti  1054640354690039809\n35           peter_kofod      dansk_folkeparti           1613378210",
      "text/html": "<div>\n<style scoped>\n    .dataframe tbody tr th:only-of-type {\n        vertical-align: middle;\n    }\n\n    .dataframe tbody tr th {\n        vertical-align: top;\n    }\n\n    .dataframe thead th {\n        text-align: right;\n    }\n</style>\n<table border=\"1\" class=\"dataframe\">\n  <thead>\n    <tr style=\"text-align: right;\">\n      <th></th>\n      <th>name</th>\n      <th>party</th>\n      <th>twitter_id</th>\n    </tr>\n  </thead>\n  <tbody>\n    <tr>\n      <th>0</th>\n      <td>magnus_heunicke</td>\n      <td>socialdemokratiet</td>\n      <td>22695562</td>\n    </tr>\n    <tr>\n      <th>1</th>\n      <td>nicolai_wammen</td>\n      <td>socialdemokratiet</td>\n      <td>2803948786</td>\n    </tr>\n    <tr>\n      <th>2</th>\n      <td>mattias_tesfaye</td>\n      <td>socialdemokratiet</td>\n      <td>546254893</td>\n    </tr>\n    <tr>\n      <th>3</th>\n      <td>jakob_ellemann</td>\n      <td>venstre</td>\n      <td>155584627</td>\n    </tr>\n    <tr>\n      <th>4</th>\n      <td>soren_gade</td>\n      <td>venstre</td>\n      <td>975064362359623680</td>\n    </tr>\n    <tr>\n      <th>5</th>\n      <td>sophie_lohde</td>\n      <td>venstre</td>\n      <td>44611200</td>\n    </tr>\n    <tr>\n      <th>6</th>\n      <td>lars_lokke</td>\n      <td>moderaterne</td>\n      <td>26201346</td>\n    </tr>\n    <tr>\n      <th>7</th>\n      <td>henrik_frandsen</td>\n      <td>moderaterne</td>\n      <td>1249019841924734977</td>\n    </tr>\n    <tr>\n      <th>8</th>\n      <td>rosa_eriksen</td>\n      <td>moderaterne</td>\n      <td>1560192117858861056</td>\n    </tr>\n    <tr>\n      <th>9</th>\n      <td>jacob_mark</td>\n      <td>sf</td>\n      <td>2373406198</td>\n    </tr>\n    <tr>\n      <th>10</th>\n      <td>pia_dyhr</td>\n      <td>sf</td>\n      <td>65025162</td>\n    </tr>\n    <tr>\n      <th>11</th>\n      <td>kirsten_andersen</td>\n      <td>sf</td>\n      <td>235646319</td>\n    </tr>\n    <tr>\n      <th>12</th>\n      <td>dennis_flydtkjær</td>\n      <td>danmarksdemokraterne</td>\n      <td>531595033</td>\n    </tr>\n    <tr>\n      <th>13</th>\n      <td>peter_skaarup</td>\n      <td>danmarksdemokraterne</td>\n      <td>3144074691</td>\n    </tr>\n    <tr>\n      <th>14</th>\n      <td>soren_espersen</td>\n      <td>danmarksdemokraterne</td>\n      <td>2444718215</td>\n    </tr>\n    <tr>\n      <th>15</th>\n      <td>alex_vanopslagh</td>\n      <td>liberal_alliance</td>\n      <td>1531564633</td>\n    </tr>\n    <tr>\n      <th>16</th>\n      <td>ole_olesen</td>\n      <td>liberal_alliance</td>\n      <td>2222188479</td>\n    </tr>\n    <tr>\n      <th>17</th>\n      <td>solbjorg_jakobsen</td>\n      <td>liberal_alliance</td>\n      <td>1548641745264644099</td>\n    </tr>\n    <tr>\n      <th>18</th>\n      <td>soren_pape</td>\n      <td>konservative</td>\n      <td>2712091824</td>\n    </tr>\n    <tr>\n      <th>19</th>\n      <td>mette_abildgaard</td>\n      <td>konservative</td>\n      <td>37877392</td>\n    </tr>\n    <tr>\n      <th>20</th>\n      <td>rasmus_jarlov</td>\n      <td>konservative</td>\n      <td>1225930531</td>\n    </tr>\n    <tr>\n      <th>21</th>\n      <td>pelle_dragsted</td>\n      <td>enhedslisten</td>\n      <td>119879630</td>\n    </tr>\n    <tr>\n      <th>22</th>\n      <td>mai_villadsen</td>\n      <td>enhedslisten</td>\n      <td>4724782641</td>\n    </tr>\n    <tr>\n      <th>23</th>\n      <td>rosa_lund</td>\n      <td>enhedslisten</td>\n      <td>736979161</td>\n    </tr>\n    <tr>\n      <th>24</th>\n      <td>martin_lidegaard</td>\n      <td>radikale</td>\n      <td>1070745218</td>\n    </tr>\n    <tr>\n      <th>25</th>\n      <td>samira_nawa</td>\n      <td>radikale</td>\n      <td>92107029</td>\n    </tr>\n    <tr>\n      <th>26</th>\n      <td>katrine_robsoe</td>\n      <td>radikale</td>\n      <td>2491403660</td>\n    </tr>\n    <tr>\n      <th>27</th>\n      <td>pernille_vermund</td>\n      <td>nye_borgerlige</td>\n      <td>24687777</td>\n    </tr>\n    <tr>\n      <th>28</th>\n      <td>lars_mathiesen</td>\n      <td>nye_borgerlige</td>\n      <td>980721900</td>\n    </tr>\n    <tr>\n      <th>29</th>\n      <td>kim_andersen</td>\n      <td>nye_borgerlige</td>\n      <td>783935815600799744</td>\n    </tr>\n    <tr>\n      <th>30</th>\n      <td>franciska_rosenkilde</td>\n      <td>alternativet</td>\n      <td>777113466205274112</td>\n    </tr>\n    <tr>\n      <th>31</th>\n      <td>christina_olumeko</td>\n      <td>alternativet</td>\n      <td>1324801335372488707</td>\n    </tr>\n    <tr>\n      <th>32</th>\n      <td>torsten_gejl</td>\n      <td>alternativet</td>\n      <td>2806864609</td>\n    </tr>\n    <tr>\n      <th>33</th>\n      <td>morten_messerschmidt</td>\n      <td>dansk_folkeparti</td>\n      <td>509288627</td>\n    </tr>\n    <tr>\n      <th>34</th>\n      <td>pia_kjarsgaard</td>\n      <td>dansk_folkeparti</td>\n      <td>1054640354690039809</td>\n    </tr>\n    <tr>\n      <th>35</th>\n      <td>peter_kofod</td>\n      <td>dansk_folkeparti</td>\n      <td>1613378210</td>\n    </tr>\n  </tbody>\n</table>\n</div>"
     },
     "metadata": {},
     "output_type": "display_data"
    }
   ],
   "execution_count": null
  },
  {
   "cell_type": "markdown",
   "source": "### Data cleaning",
   "metadata": {
    "is_collapsed": false,
    "tags": [],
    "cell_id": "138af563-7ae3-4d6e-bfdc-1e05e2c5e0f4",
    "formattedRanges": [],
    "deepnote_cell_type": "text-cell-h3"
   }
  },
  {
   "cell_type": "markdown",
   "source": "As we are only interested in the text of each tweet, we will collect the text for each politician as a list of strings (tweets) and add it as a new column to the data. However, we would like to clean the text a bit before doing this, for this purpose we do the following:\n\n- only keep words and numbers, i.e. no emojis\n- remove punctuation, stopwords and urls\n- make all words lowercase\n\n<font color=\"red\"> Maybe we can use mrjob to do this? </font>",
   "metadata": {
    "cell_id": "d93a9f1f559d4d538a3a3ccc0593f65d",
    "tags": [],
    "deepnote_cell_type": "markdown",
    "deepnote_cell_height": 220.765625
   }
  },
  {
   "cell_type": "markdown",
   "source": "",
   "metadata": {
    "is_collapsed": false,
    "tags": [],
    "cell_id": "8391a2ad-3615-43bd-9802-66904eac9f4e",
    "formattedRanges": [],
    "deepnote_cell_type": "text-cell-p"
   }
  },
  {
   "cell_type": "code",
   "metadata": {
    "cell_id": "4fd71cf699bc45ce8a5c41b616b90659",
    "tags": [],
    "deepnote_to_be_reexecuted": false,
    "source_hash": "cdc5f1c",
    "execution_start": 1668251642225,
    "execution_millis": 2,
    "deepnote_cell_type": "code",
    "deepnote_cell_height": 170.53125
   },
   "source": "import glob\n# All files and directories ending with .txt and that don't begin with a dot:\nprint(glob.glob(\"Data/*\")) \n",
   "outputs": [
    {
     "name": "stdout",
     "text": "['Data/__pycache__', 'Data/twitter_ids.py', 'Data/dansk_folkeparti', 'Data/enhedslisten', 'Data/test_payload.csv', 'Data/sf', 'Data/alternativet', 'Data/venstre', 'Data/radikale', 'Data/danmarksdemokraterne', 'Data/socialdemokratiet', 'Data/konservative', 'Data/nye_borgerlige', 'Data/backup_plan_tweets.csv', 'Data/moderaterne', 'Data/liberal_alliance']\n",
     "output_type": "stream"
    }
   ],
   "execution_count": null
  },
  {
   "cell_type": "code",
   "source": "#cleaning each twitter period in the party folder:\n\nsubfolders = [ f.path for f in os.scandir(\"Data/\") if f.is_dir() ][1:]\nfor folder in subfolders:\n    files = glob.glob(folder + \"*.csv\")\n    tokens_list = []\n    for partimedlem in files:\n        for i in range(partimedlem.shape[0]):\n            raw = partimedlem.text.iloc[i]\n            tokensraw = word_tokenize(raw) #get tokens from wikipage\n            tokens = [word.lower() for word in tokensraw if word.isalnum()] #only get words and numbers\n            tokens = [wnl.lemmatize(t) for t in tokens] #lemmatize tokens\n            marvel_tokens += tokens",
   "metadata": {
    "cell_id": "ae97d0ebd31b4a70b727546d9bd0d9b6",
    "tags": [],
    "deepnote_cell_type": "code",
    "deepnote_cell_height": 282
   },
   "execution_count": null,
   "outputs": []
  },
  {
   "cell_type": "code",
   "metadata": {
    "cell_id": "cb0b6fd3b5754760a979f814f72018f9",
    "tags": [],
    "deepnote_to_be_reexecuted": false,
    "source_hash": "89f6921d",
    "execution_start": 1667937542949,
    "execution_millis": 1623,
    "deepnote_cell_type": "code",
    "deepnote_cell_height": 219.78125
   },
   "source": "wnl = nltk.WordNetLemmatizer() \n\ntokens_list = []\nfor i in range(data.shape[0]):\n    raw = data[\"text\"].iloc[i]\n    tokensraw = word_tokenize(raw) #get tokens \n    tokens = [word.lower() for word in tokensraw if word.isalnum()] #only get words and numbers\n    tokens = [wnl.lemmatize(t) for t in tokens] #lemmatize tokens\n    tokens_list += tokens",
   "execution_count": null,
   "outputs": []
  },
  {
   "cell_type": "markdown",
   "source": "<a style='text-decoration:none;line-height:16px;display:flex;color:#5B5B62;padding:10px;justify-content:end;' href='https://deepnote.com?utm_source=created-in-deepnote-cell&projectId=30797f9c-952e-45b4-98d4-31c9ac73ae78' target=\"_blank\">\n<img alt='Created in deepnote.com' style='display:inline;max-height:16px;margin:0px;margin-right:7.5px;' src='data:image/svg+xml;base64,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' > </img>\nCreated in <span style='font-weight:600;margin-left:4px;'>Deepnote</span></a>",
   "metadata": {
    "tags": [],
    "created_in_deepnote_cell": true,
    "deepnote_cell_type": "markdown"
   }
  }
 ],
 "nbformat": 4,
 "nbformat_minor": 2,
 "metadata": {
  "kernelspec": {
   "display_name": "Python 3.10.6 64-bit",
   "language": "python",
   "name": "python3"
  },
  "language_info": {
   "codemirror_mode": {
    "name": "ipython",
    "version": 3
   },
   "file_extension": ".py",
   "mimetype": "text/x-python",
   "name": "python",
   "nbconvert_exporter": "python",
   "pygments_lexer": "ipython3",
   "version": "3.10.6"
  },
  "orig_nbformat": 4,
  "vscode": {
   "interpreter": {
    "hash": "b0fa6594d8f4cbf19f97940f81e996739fb7646882a419484c72d19e05852a7e"
   }
  },
  "deepnote_notebook_id": "c6688788-fae5-44cc-a7a4-3ca4227f9d65",
  "deepnote": {},
  "deepnote_execution_queue": [],
  "deepnote_persisted_session": {
   "createdAt": "2022-11-08T20:46:41.377Z"
  }
 }
}