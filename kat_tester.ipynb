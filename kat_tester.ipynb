{
 "cells": [
  {
   "cell_type": "code",
   "metadata": {
    "cell_id": "b9d670f9-28bf-4981-8f9e-cf22056d423f",
    "deepnote_to_be_reexecuted": false,
    "source_hash": "522fcc3f",
    "execution_start": 1668958920397,
    "execution_millis": 3792,
    "deepnote_cell_type": "code",
    "deepnote_cell_height": 436
   },
   "source": "from IPython.display import display\nimport pandas as pd\nimport requests\nimport re\nfrom urllib.request import urlopen\nimport csv\nimport os\nimport numpy as np\nimport matplotlib.pyplot as plt\n#from fa2 import ForceAtlas2\nfrom scipy import stats\nimport nltk\nfrom nltk import word_tokenize\nfrom nltk.corpus import stopwords\nimport io\nfrom tqdm import tqdm\nfrom heapq import nlargest \nimport seaborn as sns\nimport simplemma\n\nsns.set()",
   "outputs": [],
   "execution_count": null
  },
  {
   "cell_type": "code",
   "metadata": {
    "cell_id": "00001-4d983592-a296-4955-841d-2a6a364cc5bb",
    "deepnote_cell_type": "code",
    "deepnote_cell_height": 286,
    "deepnote_output_heights": [
     176
    ]
   },
   "source": "giant_df = pd.read_csv(\"Data/Giant.csv\")\ndisplay(giant_df.head())",
   "execution_count": null,
   "outputs": [
    {
     "data": {
      "text/html": "<div>\n<style scoped>\n    .dataframe tbody tr th:only-of-type {\n        vertical-align: middle;\n    }\n\n    .dataframe tbody tr th {\n        vertical-align: top;\n    }\n\n    .dataframe thead th {\n        text-align: right;\n    }\n</style>\n<table border=\"1\" class=\"dataframe\">\n  <thead>\n    <tr style=\"text-align: right;\">\n      <th></th>\n      <th>Party</th>\n      <th>Person</th>\n      <th>Tweets</th>\n    </tr>\n  </thead>\n  <tbody>\n    <tr>\n      <th>0</th>\n      <td>socialdemokratiet</td>\n      <td>magnus_heunicke</td>\n      <td>['promises made promises kept', 'covidsmitten ...</td>\n    </tr>\n    <tr>\n      <th>1</th>\n      <td>socialdemokratiet</td>\n      <td>nicolai_wammen</td>\n      <td>['vej spændende aften gode kollegaer god valga...</td>\n    </tr>\n    <tr>\n      <th>2</th>\n      <td>socialdemokratiet</td>\n      <td>mattias_tesfaye</td>\n      <td>['nytår ps vandt', 'liekaas fremragende filmen...</td>\n    </tr>\n    <tr>\n      <th>3</th>\n      <td>venstre</td>\n      <td>jakob_ellemann</td>\n      <td>['fesagen skadet danmarks efterretningstjenest...</td>\n    </tr>\n    <tr>\n      <th>4</th>\n      <td>venstre</td>\n      <td>soren_gade</td>\n      <td>['snothvalpen ved grimmebriller', 'sagt lige s...</td>\n    </tr>\n  </tbody>\n</table>\n</div>",
      "text/plain": "               Party           Person  \\\n0  socialdemokratiet  magnus_heunicke   \n1  socialdemokratiet   nicolai_wammen   \n2  socialdemokratiet  mattias_tesfaye   \n3            venstre   jakob_ellemann   \n4            venstre       soren_gade   \n\n                                              Tweets  \n0  ['promises made promises kept', 'covidsmitten ...  \n1  ['vej spændende aften gode kollegaer god valga...  \n2  ['nytår ps vandt', 'liekaas fremragende filmen...  \n3  ['fesagen skadet danmarks efterretningstjenest...  \n4  ['snothvalpen ved grimmebriller', 'sagt lige s...  "
     },
     "metadata": {},
     "output_type": "display_data"
    }
   ]
  },
  {
   "cell_type": "code",
   "metadata": {
    "cell_id": "00002-91786354-1efe-410b-a8a2-7a34f0d77e57",
    "deepnote_cell_type": "code",
    "deepnote_cell_height": 313
   },
   "source": "import ast\n# Convert string to list and join strings\n# t = ast.literal_eval(giant_df.iloc[0,2]) # skal måske benyttes \n# t = ' '.join(t)\n\n# Tokenize and clean tweets\nwnl = nltk.WordNetLemmatizer() \nSTOPWORDS = nltk.corpus.stopwords.words('danish') + [\"http\"]\n\ndef clean_tweet(tweet):\n    tokensraw = word_tokenize(tweet) #get tokens \n    tokens = [word.lower() for word in tokensraw if word.isalnum()] #only get words and numbers\n    tokens = [simplemma.lemmatize(t, lang='da') for t in tokens]\n    tokens = [w for w in tokens if w.lower() not in STOPWORDS] #remove stopwords\n    return tokens",
   "execution_count": null,
   "outputs": []
  },
  {
   "cell_type": "code",
   "metadata": {
    "cell_id": "00003-5e96d5e0-6bb3-4564-b1d0-0c54966bc0d2",
    "deepnote_cell_type": "code",
    "deepnote_cell_height": 133
   },
   "source": "giant_df['CT'] = giant_df['Tweets']\nfor w in range(len(giant_df)):\n    giant_df['CT'][w] = ' '.join(giant_df['CT'][w])\n    giant_df['CT'][w] = clean_tweet(giant_df['Tweets'][w])\n   ",
   "execution_count": null,
   "outputs": []
  },
  {
   "cell_type": "code",
   "metadata": {
    "cell_id": "00004-f74e353a-c6c0-4eb9-9fa4-303960edee37",
    "deepnote_cell_type": "code",
    "deepnote_cell_height": 133
   },
   "source": "def jaccard_similarity(x,y):\n  \"\"\" returns the jaccard similarity between two lists \"\"\"\n  intersection_cardinality = len(set.intersection(*[set(x), set(y)]))\n  union_cardinality = len(set.union(*[set(x), set(y)]))\n  return intersection_cardinality/float(union_cardinality)",
   "execution_count": null,
   "outputs": []
  },
  {
   "cell_type": "code",
   "metadata": {
    "cell_id": "00005-ba23428a-ba26-41b5-b142-647b0e11e8cd",
    "deepnote_cell_type": "code",
    "deepnote_cell_height": 702,
    "deepnote_output_heights": [
     610
    ]
   },
   "source": "giant_df.CT[1]",
   "execution_count": null,
   "outputs": [
    {
     "data": {
      "text/plain": "['spænde',\n 'aften',\n 'gode',\n 'kollega',\n 'god',\n 'valgaften',\n 'usikker',\n 'tid',\n 'grund',\n 'glæde',\n 'dag',\n 'lave',\n 'ledighedstal',\n 'fald',\n 'person',\n 'ledighed',\n 'pct',\n 'vigtig',\n 'fortsætte',\n 'sikker',\n 'hånd',\n 'rat',\n 'passe',\n 'godte',\n 'dansk',\n 'job',\n 'virksomhed',\n 'dkpol',\n 'poul',\n 'helle',\n 'anbefale',\n 'østjyderne',\n 'stemme',\n 'personlig',\n 'tirsdag',\n 'flotte',\n 'dejlig',\n 'skulderklap',\n 'to',\n 'tidlig',\n 'statsminister',\n 'almindelig',\n 'familie',\n 'stå',\n 'miste',\n 'tusindvis',\n 'kr',\n 'mens',\n 'direktør',\n 'forgylde',\n 'moderaternes',\n 'skatteplan',\n 'moderat',\n 'voldsom',\n 'løkke',\n 'tone',\n 'ren',\n 'flag',\n 'føre',\n 'blå',\n 'borgerlig',\n 'økonomisk',\n 'politik',\n 'forslag',\n 'akutpakke',\n 'bombe',\n 'kommune',\n 'økonomi',\n 'v',\n 'finde',\n 'mia',\n 'kr',\n 'ved',\n 'konkurrenceudsættelse',\n 'tro',\n 'v',\n 'sende',\n 'masse',\n 'udbud',\n 'så',\n 'falde',\n 'imod',\n 'mia',\n 'kr',\n 'himmel',\n 'jan',\n 'få',\n 'stor',\n 'konsekvens',\n 'nære',\n 'velfærd',\n 'mentor',\n 'politisk',\n 'bedstefar',\n 'thorkild',\n 'simonsen',\n 'dø',\n 'fantastisk',\n 'menneske',\n 'god',\n 'borgmester',\n 'aarhus',\n 'dyb',\n 'savne',\n 'varme',\n 'tanke',\n 'gå',\n 'edny',\n 'thorkilds',\n 'øvrig',\n 'familie',\n 'ære',\n 'thorkild',\n 'simonsens',\n 'minde',\n 'verdenshistorie',\n 'stor',\n 'statsmand',\n 'bestemt',\n 'uden',\n 'fejl',\n 'evne',\n 'lade',\n 'fred',\n 'vind',\n 'konflikt',\n 'personlig',\n 'plan',\n 'møde',\n 'tog',\n 'tid',\n 'møde',\n 'to',\n 'unge',\n 'dsuere',\n 'aarhus',\n 'erne',\n 'uhørt',\n 'angribe',\n 'politisering',\n 'mederarbejder',\n 'kompetencestyrelsens',\n 'kammeradvokat',\n 'uafhængighed',\n 'integritet',\n 'rådgivning',\n 'ekstrem',\n 'lavpunkt',\n 'dyb',\n 'skadelig',\n 'respekt',\n 'tillid',\n 'embedsværk',\n 'måtte',\n 'politisering',\n 'angreb',\n 'stoppe',\n 'finance',\n 'minister',\n 'tells',\n 'that',\n 'walkouts',\n 'the',\n 'imf',\n 'sende',\n 'putin',\n 'a',\n 'cleare',\n 'message',\n 'a',\n 'chair',\n 'of',\n 'the',\n 'nordic',\n 'and',\n 'baltic',\n 'countries',\n 'along',\n 'with',\n 'my',\n 'colleagues',\n 'walked',\n 'out',\n 'of',\n 'the',\n 'imf',\n 'plenary',\n 'when',\n 'the',\n 'russian',\n 'minister',\n 'of',\n 'finance',\n 'began',\n 'to',\n 'speake',\n 'we',\n 'wont',\n 'tolerate',\n 'russias',\n 'invasion',\n 'of',\n 'Ukraine',\n 'imfmeetings',\n 'solidaritet',\n 'Ukraine',\n 'smuk',\n 'tank',\n 'forfærdelig',\n 'tid',\n 'måtte',\n 'snart',\n 'ly',\n 'fred',\n 'Ukraine',\n 'dag',\n 'Berlin',\n 'besøg',\n 'tysk',\n 'ministerkollega',\n 'drøfte',\n 'økonomisk',\n 'national',\n 'kompromisse',\n 'Danmark',\n 'sikkerhed',\n 'utrolig',\n 'vigtig',\n 'aftale',\n 'enighed',\n 'økonomisk',\n 'ansvarlig',\n 'løfte',\n 'udgift',\n 'forsvar',\n 'sikkerhed',\n 'pct',\n 'bnp',\n 'hertil',\n 'komme',\n 'folkeafstemning',\n 'forsvarsforbeholdet',\n 'vigtig',\n 'beslutning',\n 'Danmark',\n 'dkpol',\n 'møde',\n 'blandt',\n 'eus',\n 'finansminister',\n 'Paris',\n 'dag',\n 'netop',\n 'opnå',\n 'enighed',\n 'se',\n 'ny',\n 'sanktion',\n 'all',\n 'option',\n 'are',\n 'on',\n 'the',\n 'table',\n 'Danmark',\n 'arbejde',\n 'yderlig',\n 'sanktion',\n 'Rusland',\n 'dkpol',\n 'flotte',\n 'resultat',\n 'historisk',\n 'overskud',\n 'mia',\n 'krone',\n 'vidne',\n 'stærk',\n 'dansk',\n 'virksomhed',\n 'stor',\n 'international',\n 'format',\n 'understøtte',\n 'positiv',\n 'udvikling',\n 'dansk',\n 'erhvervsliv',\n 'dansk',\n 'økonomi',\n 'borgerlig',\n 'formå',\n 's',\n 'sf',\n 'accept',\n 'lav',\n 'beløbsgrænse',\n 'få',\n 'forslag',\n 'rekrutteringskontorer',\n 'valg',\n 'ny',\n 'formand',\n 'df',\n 'se',\n 'fremme',\n 'fortsætte',\n 'godte',\n 'samarbejde',\n 'forhandlingstimer',\n 'rød',\n 'bygning',\n 'tak',\n 'godte',\n 'samarbejde',\n 'fælles',\n 'aftale',\n 'tak',\n 'ven',\n 'fantastisk',\n 'indsats',\n 's',\n 'høj',\n 'grad',\n 'henriks',\n 'fortjeneste',\n 'socialdemokrati',\n 'sidde',\n 'forhandle',\n 'regering',\n 'håbe',\n 'henrik',\n 'få',\n 'mulighed',\n 'rask',\n 'få',\n 'ny',\n 'kraft',\n 'dkpol',\n 'eid',\n 'mubarak',\n 'muslim',\n 'Danmark',\n 'håbe',\n 'få',\n 'gode',\n 'dag',\n 'familie',\n 'ven',\n 'dkpol',\n 'skarp',\n 'engagere',\n 'mette',\n 'f',\n 'absolut',\n 'topform',\n 's',\n 'velfærd',\n 'først',\n 'Danmark',\n 'tilbage',\n 'grøn',\n 'førertrøje',\n 'stramme',\n 'realistisk',\n 'udlændingepolitik',\n 'løkke',\n 'svare',\n 'forpligte',\n 'klimamål',\n 'sikring',\n 'velfærd',\n 'tid',\n 'ny',\n 'statsminister',\n 'dkpol',\n 'gå',\n 'valg',\n 'åbne',\n 'Europa',\n 'grænse',\n 'vid',\n 'gab',\n 'migration',\n 'Afrika',\n 'velkommen',\n 'mio',\n 'ny',\n 'migranter',\n 'skræmme',\n 'lyde',\n 'parti',\n 'helt',\n 'vild',\n 'dyb',\n 'uansvarlig',\n 'melding',\n 's',\n 'istedet',\n 'sikre',\n 'job',\n 'dansk',\n 'unge',\n 'ledig',\n 'dkpol',\n 'meddelelse',\n 'tre',\n 'dræbe',\n 'dansker',\n 'forbindelse',\n 'terrorangreb',\n 'sri',\n 'lanka',\n 'samle',\n 'dødstal',\n 'flere',\n 'helt',\n 'forfærdelig',\n 'dyb',\n 'medfølelse',\n 'offer',\n 'kære',\n 'liv',\n 'altid',\n 'ændre',\n 'mest',\n 'grusom',\n 'måde',\n 'dkpol',\n 'kujonagtig',\n 'terrorangreb',\n 'sri',\n 'lanka',\n 'familie',\n 'altid',\n 'ramme',\n 'mest',\n 'grusom',\n 'måde',\n 'tanke',\n 'dræbe',\n 'såre',\n 'kære',\n 'samtidig',\n 'dyb',\n 'berøre',\n 'forlyde',\n 'dansk',\n 'ofre',\n 'dag',\n 'angribe',\n 'dkpol',\n 'bizar',\n 'pressemøde',\n 'venstre',\n 'ganske',\n 'enkelt',\n 'kæmpe',\n 'selvmål',\n 'valgkamp',\n 'reel',\n 'skyde',\n 'igang',\n 'venstre',\n 'start',\n 'skræmmekampagne',\n 'nytte',\n 'lavpunkt',\n 'dansk',\n 'politik',\n 'dkpol',\n 'theresa',\n 'may',\n 'corbyn',\n 'lave',\n 'national',\n 'kompromisse',\n 'sikre',\n 'Storbritannien',\n 'få',\n 'ordne',\n 'brexitskilsmisse',\n 'eu',\n 'interesse',\n 'undgå',\n 'hård',\n 'brexit',\n 'kæmpe',\n 'ansvar',\n 'såvel',\n 'may',\n 'corbyn',\n 'tid',\n 'aftale',\n 'mere',\n 'politisk',\n 'kaos',\n 'dkpol',\n 'økonomisk',\n 'plan',\n 'frontalangreb',\n 'dansk',\n 'velfærdssamfund',\n 'enorm',\n 'besparelse',\n 'bla',\n 'ældrepleje',\n 'sygehus',\n 'pasning',\n 'uddannelse',\n 'vores',\n 'barn',\n 'unge',\n 'gengæld',\n 'fjerne',\n 'topskat',\n 'helt',\n 'dyb',\n 'uretfærdig',\n 'usympatisk',\n 'dk',\n 'brug',\n 'ny',\n 'regering',\n 'dkpol',\n 'kaos',\n 'Storbritannien',\n 'theresa',\n 'may',\n 'nedstemme',\n 'igen',\n 'britisk',\n 'politik',\n 'kæmpe',\n 'rodebutik',\n 'dyb',\n 'bekymre',\n 'Storbritannien',\n 'eu',\n 'stå',\n 'svær',\n 'situation',\n 'tid',\n 'rinde',\n 'enorm',\n 'ansvar',\n 'ligge',\n 'Storbritannien',\n 'inden',\n 'eukrisemøde',\n 'april',\n 'dkpol',\n 'may',\n 'meddele',\n 'træde',\n 'tilbage',\n 'parlament',\n 'stemme',\n 'brexitaftale',\n 'håbe',\n 'parlament',\n 'samle',\n 'hard',\n 'brexit',\n 'forhindre',\n 'uk',\n 'få',\n 'ordne',\n 'skilsmisse',\n 'eu',\n 'dkpol',\n 'vigtig',\n 'ord',\n 'new',\n 'zealands',\n 'statsminister',\n 'jacinda',\n 'arden',\n 'frygtelig',\n 'terrorangreb',\n 'new',\n 'zealand',\n 'måtte',\n 'stå',\n 'sammen',\n 'kamp',\n 'terror',\n 'vise',\n 'vores',\n 'solidaritet',\n 'dyb',\n 'medfølelse',\n 'offer',\n 'kære',\n 'dkpol',\n 'kujonagtig',\n 'angribe',\n 'new',\n 'zealand',\n 'tanke',\n 'dyb',\n 'medfølelse',\n 'gå',\n 'ofre',\n 'familie',\n 'kære',\n 'dkpol',\n 'alvorlig',\n 'situation',\n 'Storbritannien',\n 'eu',\n 'Danmark',\n 'stadig',\n 'dag',\n 'tilbage',\n 'sikre',\n 'fornuftig',\n 'skilsmisse',\n 'bold',\n 'ligge',\n 'may',\n 'parlament',\n 'behov',\n 'parti',\n 'Storbritannien',\n 'bidrage',\n 'løsning',\n 'dkpol',\n 'ansvarlig',\n 'sige',\n 'stoppe',\n 'nej',\n 'tak',\n 'regering',\n 'sundhedsforhandlingerne',\n 'se',\n 'fremme',\n 'konstruktiv',\n 'samarbejde',\n 'bla',\n 'fremtid',\n 'sundhedsvæsen',\n 's',\n 'næste',\n 'valg',\n 'betro',\n 'regeringsansvaret',\n 'dkpol',\n 'nej',\n 'brexitaftale',\n 'uk',\n 'parlament',\n 'dyb',\n 'alvorlig',\n 'situation',\n 'uk',\n 'eu',\n 'Danmark',\n 'hård',\n 'brexit',\n 'katastrofe',\n 'stor',\n 'konsekvens',\n 'Danmark',\n 'håbe',\n 'national',\n 'kompromisse',\n 'uk',\n 'bane',\n 'vej',\n 'konstruktiv',\n 'løsning',\n 'eu',\n 'dkpol',\n 'debatform',\n 'folketing',\n 'statsminister',\n 'dag',\n 'anledning',\n 'få',\n 'lov',\n 'låne',\n 'plads',\n 'dejlig',\n 'se',\n 'løkke',\n 'oppositionsbænken',\n 'dkpol',\n 'melde',\n 'krisemøde',\n 'venstre',\n 'personlig',\n 'gå',\n 'nedlægge',\n 'region',\n 'løkke',\n 'fortælle',\n 'eg',\n 'regering',\n 'politik',\n 'løkke',\n 'skylde',\n 'borger',\n 'sundhedspersonale',\n 'klar',\n 'ærlig',\n 'svar',\n 'mere',\n 'udenomssnak',\n 'dyb',\n 'medfølelse',\n 'offer',\n 'kære',\n 'ved',\n 'frygtelig',\n 'togulykke',\n 'storebæltsbro',\n 'dyb',\n 'tragisk',\n 'familie',\n 'liv',\n 'forfærdelig',\n 'ændre',\n 'dag',\n 'dyb',\n 'bekymre',\n 'usas',\n 'respektere',\n 'forsvarsminister',\n 'james',\n 'mattis',\n 'måtte',\n 'tag',\n 'afsked',\n 'protest',\n 'donald',\n 'trumps',\n 'udenrigs',\n 'sikkerhedspolitisk',\n 'handling',\n 'sidste',\n 'moderere',\n 'topminister',\n 'hvide',\n 'hus',\n 'has',\n 'left',\n 'the',\n 'building',\n 'dkpol',\n 'valentin',\n 'købe',\n 'møde',\n 'løkke',\n 'ved',\n 'betale',\n 'løkkefonden',\n 'gå',\n 'stik',\n 'imod',\n 'løkke',\n 'forklaring',\n 'ft',\n 'ministeransvar',\n 'udtalt',\n 'købe',\n 'møde',\n 'via',\n 'løkkefonden',\n 'vild',\n 'sag',\n 'forklaring',\n 'løkke',\n 'udbede',\n 'dkpol',\n 'kæberasler',\n 'markant',\n 'venstrefolk',\n 'løkke',\n 'plan',\n 'nedlægge',\n 'region',\n 'fordel',\n 'ny',\n 'udemokratisk',\n 'struktur',\n 'sundhedsområde',\n 'håbe',\n 'løkke',\n 'komme',\n 'fornuft',\n 'lytte',\n 'søren',\n 'gade',\n 'holst',\n 'kissmeyer',\n 'geertsen',\n 'dkpol',\n 'nægte',\n 'svare',\n 'sende',\n 'abe',\n 'videre',\n 'lars',\n 'chr',\n 'lilleholt',\n 'regering',\n 'indblanding',\n 'klimarådets',\n 'arbejde',\n 'løkke',\n 'efterfølge',\n 'fyring',\n 'angribe',\n 'dets',\n 'formand',\n 'udvikle',\n 'mere',\n 'mere',\n 'alvorlig',\n 'regering',\n 'stille',\n 'løkke',\n 'ny',\n 'spørgsmål',\n 'dkpol',\n 'se',\n 'statsminister',\n 'fyr',\n 'kompetent',\n 'formand',\n 'klimarådet',\n 'dernæst',\n 'løkke',\n 'løfte',\n 'mio',\n 'grøn',\n 'bil',\n 'forvandle',\n 'varme',\n 'luft',\n 'blå',\n 'plan',\n 'spænde',\n 'ben',\n 'ny',\n 'fredning',\n 'passe',\n 'vores',\n 'natur',\n 'løkke',\n 'grøn',\n 'politik',\n 'ligge',\n 'ruin',\n 'dkpol',\n 'angribe',\n 'julemarked',\n 'strasbourg',\n 'tanke',\n 'gå',\n 'offer',\n 'kære',\n 'liv',\n 'frygtelig',\n 'brutal',\n 'forandre',\n 'aften',\n 'dkpol',\n 'banarepublik',\n 'dyb',\n 'alvorlig',\n 'helt',\n 'uacceptabel',\n 'lars',\n 'c',\n 'lilleholt',\n 'prøve',\n 'udøve',\n 'censur',\n 'lukke',\n 'mund',\n 'formand',\n 'uafhængig',\n 'klimarådet',\n 'grunde',\n 'kritik',\n 'regering',\n 's',\n 'indkalde',\n 'samråd',\n 'stille',\n 'spørgsmål',\n 'ftsalen',\n 'dkpol',\n 'støjberg',\n 'ulla',\n 'tørnæs',\n 'sige',\n 'klar',\n 'nej',\n 'tag',\n 'marrakech',\n 'underskrive',\n 'fnpagt',\n 'forhandle',\n 'måtte',\n 'løkke',\n 'sidst',\n 'tag',\n 'afsted',\n 'start',\n 'slutte',\n 'pinlig',\n 'håndtering',\n 'rådvild',\n 'regering',\n 'statsminister',\n 'dkpol',\n 'h',\n 'w',\n 'bush',\n 'dø',\n 'bush',\n 'forstå',\n 'engagere',\n 'usas',\n 'rolle',\n 'verden',\n 'bush',\n 'forstå',\n 'stor',\n 'styrke',\n 'følge',\n 'stor',\n 'ansvar',\n 'usa',\n 'måtte',\n 'lytte',\n 'ven',\n 'kun',\n 'tænke',\n 'america',\n 'first',\n 'usa',\n 'verden',\n 'ægte',\n 'statsmand',\n 'fattig',\n 'dkpol',\n 'vise',\n 'få',\n 'rette',\n 'kære',\n 'statsminister',\n 'allerede',\n 'fortælle',\n 'komme',\n 'nedlægge',\n 'region',\n 'ej',\n 'fremover',\n 'komme',\n 'demokratisk',\n 'vælge',\n 'beslutningstager',\n 'forhold',\n 'opgave',\n 'region',\n 'dag',\n 'varetage',\n 'måtte',\n 'udskyde',\n 'sundhedsreform',\n 'stor',\n 'tilbagetog',\n 'statsminister',\n 'mon',\n 'regering',\n 'vente',\n 'valg',\n 'løkke',\n 'godte',\n 'se',\n 'omfatte',\n 'centraliseringsplaner',\n 'hverken',\n 'opbakning',\n 'sundhedspersonale',\n 'befolkning',\n 'dkpol',\n 'tale',\n 'fællesskab',\n 'stærk',\n 'fællesskab',\n 'kræve',\n 'reel',\n 'satse',\n 'velfærd',\n 'vores',\n ...]"
     },
     "execution_count": 25,
     "metadata": {},
     "output_type": "execute_result"
    }
   ]
  },
  {
   "cell_type": "code",
   "metadata": {
    "cell_id": "00006-e9a68dba-1006-4d56-82d3-5c678319cbc7",
    "deepnote_cell_type": "code",
    "deepnote_cell_height": 148.1875,
    "deepnote_output_heights": [
     20.1875
    ]
   },
   "source": "sentences = [giant_df.CT[0],giant_df.CT[6]]\n# sentences = [sent.lower().split(\" \") for sent in sentences]\njaccard_similarity(sentences[0], sentences[1])",
   "execution_count": null,
   "outputs": [
    {
     "data": {
      "text/plain": "0.2572194561470701"
     },
     "execution_count": 26,
     "metadata": {},
     "output_type": "execute_result"
    }
   ]
  },
  {
   "cell_type": "markdown",
   "source": "# foreslag på fremgfangsmåde",
   "metadata": {
    "cell_id": "00007-1ec40940-f1b4-464a-90bf-288af9c8cc51",
    "deepnote_cell_type": "markdown",
    "deepnote_cell_height": 82
   }
  },
  {
   "cell_type": "code",
   "metadata": {
    "cell_id": "00008-1cbe2894-0702-49cd-ac63-e2293e52639d",
    "deepnote_cell_type": "code",
    "deepnote_cell_height": 205
   },
   "source": "# converting a string of text into a vector. Using teh transformer BERT model\n\n# Step one: Use BERT to convert our text into a vector\n# Step two:Get the cosine similarity (the cosine of the angle between the two vectors) \n    # of a fixed twitter profiles (vector) and all the other ones\n# Step three: Pick the twitter profiles (vectors) with the largest cosine similarity.\n\n\n",
   "execution_count": null,
   "outputs": []
  },
  {
   "cell_type": "code",
   "metadata": {
    "cell_id": "00009-b088bcc1-8283-4b2b-89d6-3a5b154765cc",
    "deepnote_cell_type": "code",
    "deepnote_cell_height": 357
   },
   "source": "# step one\nimport matplotlib.pyplot as plt\nimport numpy as np\nfrom sentence_transformers import SentenceTransformer\nimport pandas as pd\nimport seaborn as sns\nfrom sklearn.feature_extraction.text import CountVectorizer\nfrom sklearn.cluster import KMeans\nfrom sklearn.metrics.pairwise import cosine_similarity\nfrom sklearn.decomposition import PCA\n\ntext_data = giant_df.CT\nmodel = SentenceTransformer('distilbert-base-nli-mean-tokens')\nembeddings = model.encode(text_data, show_progress_bar=True)",
   "execution_count": null,
   "outputs": [
    {
     "data": {
      "application/vnd.jupyter.widget-view+json": {
       "model_id": "7c8b4274d1ac4e4c891a7560580f8563",
       "version_major": 2,
       "version_minor": 0
      },
      "text/plain": "Batches:   0%|          | 0/2 [00:00<?, ?it/s]"
     },
     "metadata": {},
     "output_type": "display_data"
    }
   ]
  },
  {
   "cell_type": "code",
   "metadata": {
    "cell_id": "00010-a587b35f-3d49-4bdf-8710-1bb9eb18f7a1",
    "deepnote_cell_type": "code",
    "deepnote_cell_height": 79
   },
   "source": "X = np.array(giant_df.CT)\n# cos_sim_data = pd.DataFrame(cosine_similarity(X))",
   "execution_count": null,
   "outputs": []
  },
  {
   "cell_type": "code",
   "metadata": {
    "cell_id": "00011-22a0109a-dd72-4afc-ad56-803d99685b08",
    "deepnote_cell_type": "code",
    "deepnote_cell_height": 552
   },
   "source": "# https://towardsdatascience.com/hands-on-content-based-recommender-system-using-python-1d643bf314e4\n\ndef give_recommendations(index,print_recommendation = False,print_recommendation_plots= False,print_parties =False):\n  index_recomm =cos_sim_data.loc[index].sort_values(ascending=False).index.tolist()[1:10]\n  party_recomm =  giant_df['Party'].loc[index_recomm].values\n  result = {'PArty':party_recomm,'Index':index_recomm}\n  if print_recommendation==True:\n    print('The watched movie is this one: %s \\n'%(giant_df['Person'].loc[index]))\n    k=1\n    for movie in party_recomm:\n      print('The number %i recommended movie is this one: %s \\n'%(k,movie))\n  if print_recommendation_plots==True:\n    print('The plot of the watched movie is this one:\\n %s \\n'%(giant_df['CT'].loc[index]))\n    k=1\n    for q in range(len(party_recomm)):\n      plot_q = giant_df['Overview'].loc[index_recomm[q]]\n      print('The plot of the number %i recommended movie is this one:\\n %s \\n'%(k,plot_q))\n      k=k+1\n  if print_parties==True:\n    print('The party of the twitter profile is this one:\\n %s \\n'%(giant_df['Party'].loc[index]))\n    k=1\n    for q in range(len(party_recomm)):\n      plot_q = giant_df['Party'].loc[index_recomm[q]]\n      print('The plot of the number %i recommended party is this one:\\n %s \\n'%(k,plot_q))\n      k=k+1\n  return result\n\n",
   "execution_count": null,
   "outputs": []
  },
  {
   "cell_type": "code",
   "metadata": {
    "cell_id": "00012-b58d9dda-32f7-4637-bf99-235e0441d757",
    "deepnote_cell_type": "code",
    "deepnote_cell_height": 115
   },
   "source": "# check if 'sundhedsminister' is in the list\n\nif 'sundhedsministeren' in doc[0]:\n    print('yes')",
   "execution_count": null,
   "outputs": []
  },
  {
   "cell_type": "code",
   "metadata": {
    "cell_id": "00013-303c0e1b-a8d2-4a6d-8c4f-f394ba24a7e4",
    "deepnote_cell_type": "code",
    "deepnote_cell_height": 61
   },
   "source": "",
   "execution_count": null,
   "outputs": []
  },
  {
   "cell_type": "markdown",
   "source": "<a style='text-decoration:none;line-height:16px;display:flex;color:#5B5B62;padding:10px;justify-content:end;' href='https://deepnote.com?utm_source=created-in-deepnote-cell&projectId=30797f9c-952e-45b4-98d4-31c9ac73ae78' target=\"_blank\">\n<img alt='Created in deepnote.com' style='display:inline;max-height:16px;margin:0px;margin-right:7.5px;' src='data:image/svg+xml;base64,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' > </img>\nCreated in <span style='font-weight:600;margin-left:4px;'>Deepnote</span></a>",
   "metadata": {
    "tags": [],
    "created_in_deepnote_cell": true,
    "deepnote_cell_type": "markdown"
   }
  }
 ],
 "nbformat": 4,
 "nbformat_minor": 2,
 "metadata": {
  "kernelspec": {
   "display_name": "Python 3.8.13 ('katrine_personal_env')",
   "language": "python",
   "name": "python3"
  },
  "language_info": {
   "codemirror_mode": {
    "name": "ipython",
    "version": 3
   },
   "file_extension": ".py",
   "mimetype": "text/x-python",
   "name": "python",
   "nbconvert_exporter": "python",
   "pygments_lexer": "ipython3",
   "version": "3.8.13"
  },
  "orig_nbformat": 4,
  "vscode": {
   "interpreter": {
    "hash": "23b47e8941e9532a227126a88d0aed60e854f3b3d5618484cace29efe7d4fdfe"
   }
  },
  "deepnote_notebook_id": "1584dd31-1e1c-4b66-9d76-016448129ed3",
  "deepnote": {},
  "deepnote_execution_queue": []
 }
}