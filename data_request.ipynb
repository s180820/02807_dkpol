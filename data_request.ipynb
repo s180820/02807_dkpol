{
 "cells": [
  {
   "cell_type": "code",
   "metadata": {
    "cell_id": "8aca1837-0bd4-4ffd-8514-f3f7510602a6",
    "deepnote_cell_type": "code",
    "deepnote_cell_height": 205
   },
   "source": "# For downloading tweets regarding #dkpol\nimport sys\n#!{sys.executable} -m pip install searchtweets\n\nfrom searchtweets import ResultStream, gen_rule_payload, load_credentials, collect_results\n\nmy_search_args = load_credentials(filename=\"search_tweets_creds.yaml\",\n                 yaml_key=\"search_tweets_api\",\n                 env_overwrite=False)",
   "execution_count": null,
   "outputs": []
  },
  {
   "cell_type": "code",
   "metadata": {
    "cell_id": "00001-d3dc589a-7206-4882-8e13-b4afb838d1e9",
    "deepnote_cell_type": "code",
    "deepnote_cell_height": 125.1875
   },
   "source": "rule = gen_rule_payload(\"dkpol\", results_per_call=100) # testing with a sandbox account\nprint(rule)",
   "execution_count": null,
   "outputs": [
    {
     "name": "stdout",
     "output_type": "stream",
     "text": "{\"query\": \"dkpol\", \"maxResults\": 100}\n"
    }
   ]
  },
  {
   "cell_type": "code",
   "metadata": {
    "cell_id": "00002-33dc7ca9-f234-4bab-aac6-c037411a51ce",
    "deepnote_cell_type": "code",
    "deepnote_cell_height": 435.0625
   },
   "source": "# creting a result stream\nrs = ResultStream(rule_payload=rule,\n                  max_results=100,\n                  max_pages=100,\n                  **my_search_args)\n\nprint(rs)\n# stating that we will collect 10,000 tweets",
   "execution_count": null,
   "outputs": [
    {
     "name": "stdout",
     "output_type": "stream",
     "text": "ResultStream: \n\t{\n    \"username\": null,\n    \"endpoint\": \"https://api.twitter.com/1.1/tweets/search/30day/dev.json\",\n    \"rule_payload\": {\n        \"query\": \"dkpol\",\n        \"maxResults\": 100\n    },\n    \"tweetify\": true,\n    \"max_results\": 100\n}\n"
    }
   ]
  },
  {
   "cell_type": "code",
   "metadata": {
    "cell_id": "00003-8dea8c53-5480-4e56-8ac8-7bab436a964f",
    "deepnote_cell_type": "code",
    "deepnote_cell_height": 61
   },
   "source": "tweets = list(rs.stream())",
   "execution_count": null,
   "outputs": []
  },
  {
   "cell_type": "code",
   "metadata": {
    "cell_id": "00004-9424752a-8691-4c6e-857c-7d024546af73",
    "deepnote_cell_type": "code",
    "deepnote_cell_height": 115
   },
   "source": "import pandas as pd\npd.DataFrame(tweets, columns = [\"user\",\"text\"])\nunfiltered_testsheet = pd.DataFrame(tweets)\nunfiltered_testsheet.to_csv(\"Data/test_payload.csv\")",
   "execution_count": null,
   "outputs": []
  },
  {
   "cell_type": "code",
   "metadata": {
    "cell_id": "00005-404f163e-83d3-4542-8ee3-0895e91bb29b",
    "deepnote_cell_type": "code",
    "deepnote_cell_height": 473.1875,
    "deepnote_output_heights": [
     381.1875
    ]
   },
   "source": "unfiltered_testsheet",
   "execution_count": null,
   "outputs": [
    {
     "data": {
      "text/html": "<div>\n<style scoped>\n    .dataframe tbody tr th:only-of-type {\n        vertical-align: middle;\n    }\n\n    .dataframe tbody tr th {\n        vertical-align: top;\n    }\n\n    .dataframe thead th {\n        text-align: right;\n    }\n</style>\n<table border=\"1\" class=\"dataframe\">\n  <thead>\n    <tr style=\"text-align: right;\">\n      <th></th>\n      <th>created_at</th>\n      <th>id</th>\n      <th>id_str</th>\n      <th>text</th>\n      <th>source</th>\n      <th>truncated</th>\n      <th>in_reply_to_status_id</th>\n      <th>in_reply_to_status_id_str</th>\n      <th>in_reply_to_user_id</th>\n      <th>in_reply_to_user_id_str</th>\n      <th>...</th>\n      <th>lang</th>\n      <th>matching_rules</th>\n      <th>possibly_sensitive</th>\n      <th>display_text_range</th>\n      <th>extended_tweet</th>\n      <th>quoted_status_id</th>\n      <th>quoted_status_id_str</th>\n      <th>quoted_status</th>\n      <th>quoted_status_permalink</th>\n      <th>extended_entities</th>\n    </tr>\n  </thead>\n  <tbody>\n    <tr>\n      <th>0</th>\n      <td>Mon Nov 07 12:44:56 +0000 2022</td>\n      <td>1589599784339636224</td>\n      <td>1589599784339636224</td>\n      <td>RT @uffeelbaek: Så kan det ikke siges mere tyd...</td>\n      <td>&lt;a href=\"http://twitter.com/download/iphone\" r...</td>\n      <td>False</td>\n      <td>NaN</td>\n      <td>None</td>\n      <td>NaN</td>\n      <td>None</td>\n      <td>...</td>\n      <td>da</td>\n      <td>[{'tag': None}]</td>\n      <td>NaN</td>\n      <td>NaN</td>\n      <td>NaN</td>\n      <td>NaN</td>\n      <td>NaN</td>\n      <td>NaN</td>\n      <td>NaN</td>\n      <td>NaN</td>\n    </tr>\n    <tr>\n      <th>1</th>\n      <td>Mon Nov 07 12:44:54 +0000 2022</td>\n      <td>1589599776995430403</td>\n      <td>1589599776995430403</td>\n      <td>Den Korte Avis | 24-årig afghaner anholdt i sa...</td>\n      <td>&lt;a href=\"https://mobile.twitter.com\" rel=\"nofo...</td>\n      <td>False</td>\n      <td>NaN</td>\n      <td>None</td>\n      <td>NaN</td>\n      <td>None</td>\n      <td>...</td>\n      <td>da</td>\n      <td>[{'tag': None}]</td>\n      <td>False</td>\n      <td>NaN</td>\n      <td>NaN</td>\n      <td>NaN</td>\n      <td>NaN</td>\n      <td>NaN</td>\n      <td>NaN</td>\n      <td>NaN</td>\n    </tr>\n    <tr>\n      <th>2</th>\n      <td>Mon Nov 07 12:44:36 +0000 2022</td>\n      <td>1589599698494816257</td>\n      <td>1589599698494816257</td>\n      <td>RT @SteffenWM: Alex-plakater er de nye tinkahu...</td>\n      <td>&lt;a href=\"http://twitter.com/download/android\" ...</td>\n      <td>False</td>\n      <td>NaN</td>\n      <td>None</td>\n      <td>NaN</td>\n      <td>None</td>\n      <td>...</td>\n      <td>da</td>\n      <td>[{'tag': None}]</td>\n      <td>NaN</td>\n      <td>NaN</td>\n      <td>NaN</td>\n      <td>NaN</td>\n      <td>NaN</td>\n      <td>NaN</td>\n      <td>NaN</td>\n      <td>NaN</td>\n    </tr>\n    <tr>\n      <th>3</th>\n      <td>Mon Nov 07 12:43:57 +0000 2022</td>\n      <td>1589599537777504256</td>\n      <td>1589599537777504256</td>\n      <td>@LRisgaard TAK! Lizette, for at tale ikke bare...</td>\n      <td>&lt;a href=\"https://mobile.twitter.com\" rel=\"nofo...</td>\n      <td>True</td>\n      <td>1.578021e+18</td>\n      <td>1578021146686943233</td>\n      <td>583011881.0</td>\n      <td>583011881</td>\n      <td>...</td>\n      <td>da</td>\n      <td>[{'tag': None}]</td>\n      <td>NaN</td>\n      <td>[11, 140]</td>\n      <td>{'full_text': '@LRisgaard TAK! Lizette, for at...</td>\n      <td>NaN</td>\n      <td>NaN</td>\n      <td>NaN</td>\n      <td>NaN</td>\n      <td>NaN</td>\n    </tr>\n    <tr>\n      <th>4</th>\n      <td>Mon Nov 07 12:43:44 +0000 2022</td>\n      <td>1589599483947778048</td>\n      <td>1589599483947778048</td>\n      <td>RT @BosseStine: “Elon Musk har slettet tweetet...</td>\n      <td>&lt;a href=\"https://mobile.twitter.com\" rel=\"nofo...</td>\n      <td>False</td>\n      <td>NaN</td>\n      <td>None</td>\n      <td>NaN</td>\n      <td>None</td>\n      <td>...</td>\n      <td>da</td>\n      <td>[{'tag': None}]</td>\n      <td>NaN</td>\n      <td>NaN</td>\n      <td>NaN</td>\n      <td>NaN</td>\n      <td>NaN</td>\n      <td>NaN</td>\n      <td>NaN</td>\n      <td>NaN</td>\n    </tr>\n    <tr>\n      <th>...</th>\n      <td>...</td>\n      <td>...</td>\n      <td>...</td>\n      <td>...</td>\n      <td>...</td>\n      <td>...</td>\n      <td>...</td>\n      <td>...</td>\n      <td>...</td>\n      <td>...</td>\n      <td>...</td>\n      <td>...</td>\n      <td>...</td>\n      <td>...</td>\n      <td>...</td>\n      <td>...</td>\n      <td>...</td>\n      <td>...</td>\n      <td>...</td>\n      <td>...</td>\n      <td>...</td>\n    </tr>\n    <tr>\n      <th>95</th>\n      <td>Mon Nov 07 12:10:36 +0000 2022</td>\n      <td>1589591143616245760</td>\n      <td>1589591143616245760</td>\n      <td>EL krav til en ny regerings politik er blevet ...</td>\n      <td>&lt;a href=\"http://twitter.com/download/iphone\" r...</td>\n      <td>True</td>\n      <td>NaN</td>\n      <td>None</td>\n      <td>NaN</td>\n      <td>None</td>\n      <td>...</td>\n      <td>da</td>\n      <td>[{'tag': None}]</td>\n      <td>NaN</td>\n      <td>NaN</td>\n      <td>{'full_text': 'EL krav til en ny regerings pol...</td>\n      <td>NaN</td>\n      <td>NaN</td>\n      <td>NaN</td>\n      <td>NaN</td>\n      <td>NaN</td>\n    </tr>\n    <tr>\n      <th>96</th>\n      <td>Mon Nov 07 12:10:21 +0000 2022</td>\n      <td>1589591079925710849</td>\n      <td>1589591079925710849</td>\n      <td>Mette Thiesen, jeg er helt uenig med dig i alt...</td>\n      <td>&lt;a href=\"https://mobile.twitter.com\" rel=\"nofo...</td>\n      <td>True</td>\n      <td>NaN</td>\n      <td>None</td>\n      <td>NaN</td>\n      <td>None</td>\n      <td>...</td>\n      <td>da</td>\n      <td>[{'tag': None}]</td>\n      <td>NaN</td>\n      <td>NaN</td>\n      <td>{'full_text': 'Mette Thiesen, jeg er helt ueni...</td>\n      <td>NaN</td>\n      <td>NaN</td>\n      <td>NaN</td>\n      <td>NaN</td>\n      <td>NaN</td>\n    </tr>\n    <tr>\n      <th>97</th>\n      <td>Mon Nov 07 12:09:59 +0000 2022</td>\n      <td>1589590989270044672</td>\n      <td>1589590989270044672</td>\n      <td>RT @HjalteOlsen: På en dag, hvor flere friheds...</td>\n      <td>&lt;a href=\"http://twitter.com/download/iphone\" r...</td>\n      <td>False</td>\n      <td>NaN</td>\n      <td>None</td>\n      <td>NaN</td>\n      <td>None</td>\n      <td>...</td>\n      <td>da</td>\n      <td>[{'tag': None}]</td>\n      <td>NaN</td>\n      <td>NaN</td>\n      <td>NaN</td>\n      <td>NaN</td>\n      <td>NaN</td>\n      <td>NaN</td>\n      <td>NaN</td>\n      <td>NaN</td>\n    </tr>\n    <tr>\n      <th>98</th>\n      <td>Mon Nov 07 12:09:38 +0000 2022</td>\n      <td>1589590902317920260</td>\n      <td>1589590902317920260</td>\n      <td>RT @jonasholmdk: Jeg ved godt at man skal skel...</td>\n      <td>&lt;a href=\"http://twitter.com/download/iphone\" r...</td>\n      <td>False</td>\n      <td>NaN</td>\n      <td>None</td>\n      <td>NaN</td>\n      <td>None</td>\n      <td>...</td>\n      <td>da</td>\n      <td>[{'tag': None}]</td>\n      <td>NaN</td>\n      <td>NaN</td>\n      <td>NaN</td>\n      <td>1.588907e+18</td>\n      <td>1588907183517102081</td>\n      <td>{'created_at': 'Sat Nov 05 14:52:47 +0000 2022...</td>\n      <td>{'url': 'https://t.co/vD04aECPyA', 'expanded':...</td>\n      <td>NaN</td>\n    </tr>\n    <tr>\n      <th>99</th>\n      <td>Mon Nov 07 12:09:30 +0000 2022</td>\n      <td>1589590867563917315</td>\n      <td>1589590867563917315</td>\n      <td>RT @kommunerne: Kære #dkpol,\\n\\nNår I sidder t...</td>\n      <td>&lt;a href=\"http://twitter.com/download/iphone\" r...</td>\n      <td>False</td>\n      <td>NaN</td>\n      <td>None</td>\n      <td>NaN</td>\n      <td>None</td>\n      <td>...</td>\n      <td>da</td>\n      <td>[{'tag': None}]</td>\n      <td>NaN</td>\n      <td>NaN</td>\n      <td>NaN</td>\n      <td>NaN</td>\n      <td>NaN</td>\n      <td>NaN</td>\n      <td>NaN</td>\n      <td>NaN</td>\n    </tr>\n  </tbody>\n</table>\n<p>100 rows × 39 columns</p>\n</div>",
      "text/plain": "                        created_at                   id               id_str  \\\n0   Mon Nov 07 12:44:56 +0000 2022  1589599784339636224  1589599784339636224   \n1   Mon Nov 07 12:44:54 +0000 2022  1589599776995430403  1589599776995430403   \n2   Mon Nov 07 12:44:36 +0000 2022  1589599698494816257  1589599698494816257   \n3   Mon Nov 07 12:43:57 +0000 2022  1589599537777504256  1589599537777504256   \n4   Mon Nov 07 12:43:44 +0000 2022  1589599483947778048  1589599483947778048   \n..                             ...                  ...                  ...   \n95  Mon Nov 07 12:10:36 +0000 2022  1589591143616245760  1589591143616245760   \n96  Mon Nov 07 12:10:21 +0000 2022  1589591079925710849  1589591079925710849   \n97  Mon Nov 07 12:09:59 +0000 2022  1589590989270044672  1589590989270044672   \n98  Mon Nov 07 12:09:38 +0000 2022  1589590902317920260  1589590902317920260   \n99  Mon Nov 07 12:09:30 +0000 2022  1589590867563917315  1589590867563917315   \n\n                                                 text  \\\n0   RT @uffeelbaek: Så kan det ikke siges mere tyd...   \n1   Den Korte Avis | 24-årig afghaner anholdt i sa...   \n2   RT @SteffenWM: Alex-plakater er de nye tinkahu...   \n3   @LRisgaard TAK! Lizette, for at tale ikke bare...   \n4   RT @BosseStine: “Elon Musk har slettet tweetet...   \n..                                                ...   \n95  EL krav til en ny regerings politik er blevet ...   \n96  Mette Thiesen, jeg er helt uenig med dig i alt...   \n97  RT @HjalteOlsen: På en dag, hvor flere friheds...   \n98  RT @jonasholmdk: Jeg ved godt at man skal skel...   \n99  RT @kommunerne: Kære #dkpol,\\n\\nNår I sidder t...   \n\n                                               source  truncated  \\\n0   <a href=\"http://twitter.com/download/iphone\" r...      False   \n1   <a href=\"https://mobile.twitter.com\" rel=\"nofo...      False   \n2   <a href=\"http://twitter.com/download/android\" ...      False   \n3   <a href=\"https://mobile.twitter.com\" rel=\"nofo...       True   \n4   <a href=\"https://mobile.twitter.com\" rel=\"nofo...      False   \n..                                                ...        ...   \n95  <a href=\"http://twitter.com/download/iphone\" r...       True   \n96  <a href=\"https://mobile.twitter.com\" rel=\"nofo...       True   \n97  <a href=\"http://twitter.com/download/iphone\" r...      False   \n98  <a href=\"http://twitter.com/download/iphone\" r...      False   \n99  <a href=\"http://twitter.com/download/iphone\" r...      False   \n\n    in_reply_to_status_id in_reply_to_status_id_str  in_reply_to_user_id  \\\n0                     NaN                      None                  NaN   \n1                     NaN                      None                  NaN   \n2                     NaN                      None                  NaN   \n3            1.578021e+18       1578021146686943233          583011881.0   \n4                     NaN                      None                  NaN   \n..                    ...                       ...                  ...   \n95                    NaN                      None                  NaN   \n96                    NaN                      None                  NaN   \n97                    NaN                      None                  NaN   \n98                    NaN                      None                  NaN   \n99                    NaN                      None                  NaN   \n\n   in_reply_to_user_id_str  ... lang   matching_rules possibly_sensitive  \\\n0                     None  ...   da  [{'tag': None}]                NaN   \n1                     None  ...   da  [{'tag': None}]              False   \n2                     None  ...   da  [{'tag': None}]                NaN   \n3                583011881  ...   da  [{'tag': None}]                NaN   \n4                     None  ...   da  [{'tag': None}]                NaN   \n..                     ...  ...  ...              ...                ...   \n95                    None  ...   da  [{'tag': None}]                NaN   \n96                    None  ...   da  [{'tag': None}]                NaN   \n97                    None  ...   da  [{'tag': None}]                NaN   \n98                    None  ...   da  [{'tag': None}]                NaN   \n99                    None  ...   da  [{'tag': None}]                NaN   \n\n   display_text_range                                     extended_tweet  \\\n0                 NaN                                                NaN   \n1                 NaN                                                NaN   \n2                 NaN                                                NaN   \n3           [11, 140]  {'full_text': '@LRisgaard TAK! Lizette, for at...   \n4                 NaN                                                NaN   \n..                ...                                                ...   \n95                NaN  {'full_text': 'EL krav til en ny regerings pol...   \n96                NaN  {'full_text': 'Mette Thiesen, jeg er helt ueni...   \n97                NaN                                                NaN   \n98                NaN                                                NaN   \n99                NaN                                                NaN   \n\n   quoted_status_id quoted_status_id_str  \\\n0               NaN                  NaN   \n1               NaN                  NaN   \n2               NaN                  NaN   \n3               NaN                  NaN   \n4               NaN                  NaN   \n..              ...                  ...   \n95              NaN                  NaN   \n96              NaN                  NaN   \n97              NaN                  NaN   \n98     1.588907e+18  1588907183517102081   \n99              NaN                  NaN   \n\n                                        quoted_status  \\\n0                                                 NaN   \n1                                                 NaN   \n2                                                 NaN   \n3                                                 NaN   \n4                                                 NaN   \n..                                                ...   \n95                                                NaN   \n96                                                NaN   \n97                                                NaN   \n98  {'created_at': 'Sat Nov 05 14:52:47 +0000 2022...   \n99                                                NaN   \n\n                              quoted_status_permalink  extended_entities  \n0                                                 NaN                NaN  \n1                                                 NaN                NaN  \n2                                                 NaN                NaN  \n3                                                 NaN                NaN  \n4                                                 NaN                NaN  \n..                                                ...                ...  \n95                                                NaN                NaN  \n96                                                NaN                NaN  \n97                                                NaN                NaN  \n98  {'url': 'https://t.co/vD04aECPyA', 'expanded':...                NaN  \n99                                                NaN                NaN  \n\n[100 rows x 39 columns]"
     },
     "execution_count": 7,
     "metadata": {},
     "output_type": "execute_result"
    }
   ]
  },
  {
   "cell_type": "code",
   "metadata": {
    "cell_id": "00006-f694b3b0-9817-4e1e-894c-af7250f085aa",
    "deepnote_to_be_reexecuted": false,
    "source_hash": "ca8b62ff",
    "execution_start": 1667930159662,
    "execution_millis": 120,
    "deepnote_table_state": {
     "pageSize": 10,
     "pageIndex": 2,
     "filters": [],
     "sortBy": []
    },
    "deepnote_table_loading": false,
    "deepnote_cell_type": "code",
    "deepnote_cell_height": 297
   },
   "source": "import pandas as pd\nunfiltered_testsheet = pd.read_csv(\"Data/test_payload.csv\")\n# print(unfiltered_testsheet[\"text\"][0])\nunfiltered_testsheet[unfiltered_testsheet.possibly_sensitive == True]#.text #.isna() == False].text",
   "execution_count": null,
   "outputs": [
    {
     "output_type": "execute_result",
     "execution_count": 15,
     "data": {
      "application/vnd.deepnote.dataframe.v3+json": {
       "column_count": 40,
       "row_count": 1,
       "columns": [
        {
         "name": "Unnamed: 0",
         "dtype": "int64",
         "stats": {
          "unique_count": 1,
          "nan_count": 0,
          "min": "79",
          "max": "79",
          "histogram": [
           {
            "bin_start": 78.5,
            "bin_end": 78.6,
            "count": 0
           },
           {
            "bin_start": 78.6,
            "bin_end": 78.7,
            "count": 0
           },
           {
            "bin_start": 78.7,
            "bin_end": 78.8,
            "count": 0
           },
           {
            "bin_start": 78.8,
            "bin_end": 78.9,
            "count": 0
           },
           {
            "bin_start": 78.9,
            "bin_end": 79,
            "count": 0
           },
           {
            "bin_start": 79,
            "bin_end": 79.1,
            "count": 1
           },
           {
            "bin_start": 79.1,
            "bin_end": 79.2,
            "count": 0
           },
           {
            "bin_start": 79.2,
            "bin_end": 79.3,
            "count": 0
           },
           {
            "bin_start": 79.3,
            "bin_end": 79.4,
            "count": 0
           },
           {
            "bin_start": 79.4,
            "bin_end": 79.5,
            "count": 0
           }
          ]
         }
        },
        {
         "name": "created_at",
         "dtype": "object",
         "stats": {
          "unique_count": 1,
          "nan_count": 0,
          "categories": [
           {
            "name": "Mon Nov 07 12:16:36 +0000 2022",
            "count": 1
           }
          ]
         }
        },
        {
         "name": "id",
         "dtype": "int64",
         "stats": {
          "unique_count": 1,
          "nan_count": 0,
          "min": "1589592653318197249",
          "max": "1589592653318197249",
          "histogram": null
         }
        },
        {
         "name": "id_str",
         "dtype": "int64",
         "stats": {
          "unique_count": 1,
          "nan_count": 0,
          "min": "1589592653318197249",
          "max": "1589592653318197249",
          "histogram": null
         }
        },
        {
         "name": "text",
         "dtype": "object",
         "stats": {
          "unique_count": 1,
          "nan_count": 0,
          "categories": [
           {
            "name": "Ny finsk reaktor ”både misslyckad och lyckad” https://t.co/ZexMXN1N4T via @SvD \n\n- Nu kan det nye finske A-kraft væ… https://t.co/NrpqOGWSPo",
            "count": 1
           }
          ]
         }
        },
        {
         "name": "source",
         "dtype": "object",
         "stats": {
          "unique_count": 1,
          "nan_count": 0,
          "categories": [
           {
            "name": "<a href=\"https://mobile.twitter.com\" rel=\"nofollow\">Twitter Web App</a>",
            "count": 1
           }
          ]
         }
        },
        {
         "name": "truncated",
         "dtype": "bool",
         "stats": {
          "unique_count": 1,
          "nan_count": 0,
          "categories": [
           {
            "name": "True",
            "count": 1
           }
          ]
         }
        },
        {
         "name": "in_reply_to_status_id",
         "dtype": "float64",
         "stats": {
          "unique_count": 0,
          "nan_count": 1,
          "min": null,
          "max": null,
          "histogram": [
           {
            "bin_start": 0,
            "bin_end": 0.1,
            "count": 0
           },
           {
            "bin_start": 0.1,
            "bin_end": 0.2,
            "count": 0
           },
           {
            "bin_start": 0.2,
            "bin_end": 0.30000000000000004,
            "count": 0
           },
           {
            "bin_start": 0.30000000000000004,
            "bin_end": 0.4,
            "count": 0
           },
           {
            "bin_start": 0.4,
            "bin_end": 0.5,
            "count": 0
           },
           {
            "bin_start": 0.5,
            "bin_end": 0.6000000000000001,
            "count": 0
           },
           {
            "bin_start": 0.6000000000000001,
            "bin_end": 0.7000000000000001,
            "count": 0
           },
           {
            "bin_start": 0.7000000000000001,
            "bin_end": 0.8,
            "count": 0
           },
           {
            "bin_start": 0.8,
            "bin_end": 0.9,
            "count": 0
           },
           {
            "bin_start": 0.9,
            "bin_end": 1,
            "count": 0
           }
          ]
         }
        },
        {
         "name": "in_reply_to_status_id_str",
         "dtype": "float64",
         "stats": {
          "unique_count": 0,
          "nan_count": 1,
          "min": null,
          "max": null,
          "histogram": [
           {
            "bin_start": 0,
            "bin_end": 0.1,
            "count": 0
           },
           {
            "bin_start": 0.1,
            "bin_end": 0.2,
            "count": 0
           },
           {
            "bin_start": 0.2,
            "bin_end": 0.30000000000000004,
            "count": 0
           },
           {
            "bin_start": 0.30000000000000004,
            "bin_end": 0.4,
            "count": 0
           },
           {
            "bin_start": 0.4,
            "bin_end": 0.5,
            "count": 0
           },
           {
            "bin_start": 0.5,
            "bin_end": 0.6000000000000001,
            "count": 0
           },
           {
            "bin_start": 0.6000000000000001,
            "bin_end": 0.7000000000000001,
            "count": 0
           },
           {
            "bin_start": 0.7000000000000001,
            "bin_end": 0.8,
            "count": 0
           },
           {
            "bin_start": 0.8,
            "bin_end": 0.9,
            "count": 0
           },
           {
            "bin_start": 0.9,
            "bin_end": 1,
            "count": 0
           }
          ]
         }
        },
        {
         "name": "in_reply_to_user_id",
         "dtype": "float64",
         "stats": {
          "unique_count": 0,
          "nan_count": 1,
          "min": null,
          "max": null,
          "histogram": [
           {
            "bin_start": 0,
            "bin_end": 0.1,
            "count": 0
           },
           {
            "bin_start": 0.1,
            "bin_end": 0.2,
            "count": 0
           },
           {
            "bin_start": 0.2,
            "bin_end": 0.30000000000000004,
            "count": 0
           },
           {
            "bin_start": 0.30000000000000004,
            "bin_end": 0.4,
            "count": 0
           },
           {
            "bin_start": 0.4,
            "bin_end": 0.5,
            "count": 0
           },
           {
            "bin_start": 0.5,
            "bin_end": 0.6000000000000001,
            "count": 0
           },
           {
            "bin_start": 0.6000000000000001,
            "bin_end": 0.7000000000000001,
            "count": 0
           },
           {
            "bin_start": 0.7000000000000001,
            "bin_end": 0.8,
            "count": 0
           },
           {
            "bin_start": 0.8,
            "bin_end": 0.9,
            "count": 0
           },
           {
            "bin_start": 0.9,
            "bin_end": 1,
            "count": 0
           }
          ]
         }
        },
        {
         "name": "in_reply_to_user_id_str",
         "dtype": "float64",
         "stats": {
          "unique_count": 0,
          "nan_count": 1,
          "min": null,
          "max": null,
          "histogram": [
           {
            "bin_start": 0,
            "bin_end": 0.1,
            "count": 0
           },
           {
            "bin_start": 0.1,
            "bin_end": 0.2,
            "count": 0
           },
           {
            "bin_start": 0.2,
            "bin_end": 0.30000000000000004,
            "count": 0
           },
           {
            "bin_start": 0.30000000000000004,
            "bin_end": 0.4,
            "count": 0
           },
           {
            "bin_start": 0.4,
            "bin_end": 0.5,
            "count": 0
           },
           {
            "bin_start": 0.5,
            "bin_end": 0.6000000000000001,
            "count": 0
           },
           {
            "bin_start": 0.6000000000000001,
            "bin_end": 0.7000000000000001,
            "count": 0
           },
           {
            "bin_start": 0.7000000000000001,
            "bin_end": 0.8,
            "count": 0
           },
           {
            "bin_start": 0.8,
            "bin_end": 0.9,
            "count": 0
           },
           {
            "bin_start": 0.9,
            "bin_end": 1,
            "count": 0
           }
          ]
         }
        },
        {
         "name": "in_reply_to_screen_name",
         "dtype": "object",
         "stats": {
          "unique_count": 0,
          "nan_count": 1,
          "categories": [
           {
            "name": "Missing",
            "count": 1
           }
          ]
         }
        },
        {
         "name": "user",
         "dtype": "object",
         "stats": {
          "unique_count": 1,
          "nan_count": 0,
          "categories": [
           {
            "name": "{'id': 1572352076, 'id_str': '1572352076', 'name': 'H. C. Andersen', 'screen_name': 'HCAndersen1943', 'location': 'Skåne, Sverige', 'url': None, 'description': None, 'translator_type': 'none', 'protected': False, 'verified': False, 'followers_count': 55, 'friends_count': 96, 'listed_count': 0, 'favourites_count': 3089, 'statuses_count': 2787, 'created_at': 'Sat Jul 06 09:03:18 +0000 2013', 'utc_offset': None, 'time_zone': None, 'geo_enabled': False, 'lang': None, 'contributors_enabled': False, 'is_translator': False, 'profile_background_color': 'C0DEED', 'profile_background_image_url': 'http://abs.twimg.com/images/themes/theme1/bg.png', 'profile_background_image_url_https': 'https://abs.twimg.com/images/themes/theme1/bg.png', 'profile_background_tile': False, 'profile_link_color': '1DA1F2', 'profile_sidebar_border_color': 'C0DEED', 'profile_sidebar_fill_color': 'DDEEF6', 'profile_text_color': '333333', 'profile_use_background_image': True, 'profile_image_url': 'http://pbs.twimg.com/profile_images/952760475548291072/LLwqV3qi_normal.jpg', 'profile_image_url_https': 'https://pbs.twimg.com/profile_images/952760475548291072/LLwqV3qi_normal.jpg', 'profile_banner_url': 'https://pbs.twimg.com/profile_banners/1572352076/1515990723', 'default_profile': True, 'default_profile_image': False, 'following': None, 'follow_request_sent': None, 'notifications': None, 'withheld_in_countries': []}",
            "count": 1
           }
          ]
         }
        },
        {
         "name": "geo",
         "dtype": "float64",
         "stats": {
          "unique_count": 0,
          "nan_count": 1,
          "min": null,
          "max": null,
          "histogram": [
           {
            "bin_start": 0,
            "bin_end": 0.1,
            "count": 0
           },
           {
            "bin_start": 0.1,
            "bin_end": 0.2,
            "count": 0
           },
           {
            "bin_start": 0.2,
            "bin_end": 0.30000000000000004,
            "count": 0
           },
           {
            "bin_start": 0.30000000000000004,
            "bin_end": 0.4,
            "count": 0
           },
           {
            "bin_start": 0.4,
            "bin_end": 0.5,
            "count": 0
           },
           {
            "bin_start": 0.5,
            "bin_end": 0.6000000000000001,
            "count": 0
           },
           {
            "bin_start": 0.6000000000000001,
            "bin_end": 0.7000000000000001,
            "count": 0
           },
           {
            "bin_start": 0.7000000000000001,
            "bin_end": 0.8,
            "count": 0
           },
           {
            "bin_start": 0.8,
            "bin_end": 0.9,
            "count": 0
           },
           {
            "bin_start": 0.9,
            "bin_end": 1,
            "count": 0
           }
          ]
         }
        },
        {
         "name": "coordinates",
         "dtype": "float64",
         "stats": {
          "unique_count": 0,
          "nan_count": 1,
          "min": null,
          "max": null,
          "histogram": [
           {
            "bin_start": 0,
            "bin_end": 0.1,
            "count": 0
           },
           {
            "bin_start": 0.1,
            "bin_end": 0.2,
            "count": 0
           },
           {
            "bin_start": 0.2,
            "bin_end": 0.30000000000000004,
            "count": 0
           },
           {
            "bin_start": 0.30000000000000004,
            "bin_end": 0.4,
            "count": 0
           },
           {
            "bin_start": 0.4,
            "bin_end": 0.5,
            "count": 0
           },
           {
            "bin_start": 0.5,
            "bin_end": 0.6000000000000001,
            "count": 0
           },
           {
            "bin_start": 0.6000000000000001,
            "bin_end": 0.7000000000000001,
            "count": 0
           },
           {
            "bin_start": 0.7000000000000001,
            "bin_end": 0.8,
            "count": 0
           },
           {
            "bin_start": 0.8,
            "bin_end": 0.9,
            "count": 0
           },
           {
            "bin_start": 0.9,
            "bin_end": 1,
            "count": 0
           }
          ]
         }
        },
        {
         "name": "place",
         "dtype": "object",
         "stats": {
          "unique_count": 0,
          "nan_count": 1,
          "categories": [
           {
            "name": "Missing",
            "count": 1
           }
          ]
         }
        },
        {
         "name": "contributors",
         "dtype": "float64",
         "stats": {
          "unique_count": 0,
          "nan_count": 1,
          "min": null,
          "max": null,
          "histogram": [
           {
            "bin_start": 0,
            "bin_end": 0.1,
            "count": 0
           },
           {
            "bin_start": 0.1,
            "bin_end": 0.2,
            "count": 0
           },
           {
            "bin_start": 0.2,
            "bin_end": 0.30000000000000004,
            "count": 0
           },
           {
            "bin_start": 0.30000000000000004,
            "bin_end": 0.4,
            "count": 0
           },
           {
            "bin_start": 0.4,
            "bin_end": 0.5,
            "count": 0
           },
           {
            "bin_start": 0.5,
            "bin_end": 0.6000000000000001,
            "count": 0
           },
           {
            "bin_start": 0.6000000000000001,
            "bin_end": 0.7000000000000001,
            "count": 0
           },
           {
            "bin_start": 0.7000000000000001,
            "bin_end": 0.8,
            "count": 0
           },
           {
            "bin_start": 0.8,
            "bin_end": 0.9,
            "count": 0
           },
           {
            "bin_start": 0.9,
            "bin_end": 1,
            "count": 0
           }
          ]
         }
        },
        {
         "name": "retweeted_status",
         "dtype": "object",
         "stats": {
          "unique_count": 0,
          "nan_count": 1,
          "categories": [
           {
            "name": "Missing",
            "count": 1
           }
          ]
         }
        },
        {
         "name": "is_quote_status",
         "dtype": "bool",
         "stats": {
          "unique_count": 1,
          "nan_count": 0,
          "categories": [
           {
            "name": "False",
            "count": 1
           }
          ]
         }
        },
        {
         "name": "quote_count",
         "dtype": "int64",
         "stats": {
          "unique_count": 1,
          "nan_count": 0,
          "min": "0",
          "max": "0",
          "histogram": [
           {
            "bin_start": -0.5,
            "bin_end": -0.4,
            "count": 0
           },
           {
            "bin_start": -0.4,
            "bin_end": -0.3,
            "count": 0
           },
           {
            "bin_start": -0.3,
            "bin_end": -0.19999999999999996,
            "count": 0
           },
           {
            "bin_start": -0.19999999999999996,
            "bin_end": -0.09999999999999998,
            "count": 0
           },
           {
            "bin_start": -0.09999999999999998,
            "bin_end": 0,
            "count": 0
           },
           {
            "bin_start": 0,
            "bin_end": 0.10000000000000009,
            "count": 1
           },
           {
            "bin_start": 0.10000000000000009,
            "bin_end": 0.20000000000000007,
            "count": 0
           },
           {
            "bin_start": 0.20000000000000007,
            "bin_end": 0.30000000000000004,
            "count": 0
           },
           {
            "bin_start": 0.30000000000000004,
            "bin_end": 0.4,
            "count": 0
           },
           {
            "bin_start": 0.4,
            "bin_end": 0.5,
            "count": 0
           }
          ]
         }
        },
        {
         "name": "reply_count",
         "dtype": "int64",
         "stats": {
          "unique_count": 1,
          "nan_count": 0,
          "min": "0",
          "max": "0",
          "histogram": [
           {
            "bin_start": -0.5,
            "bin_end": -0.4,
            "count": 0
           },
           {
            "bin_start": -0.4,
            "bin_end": -0.3,
            "count": 0
           },
           {
            "bin_start": -0.3,
            "bin_end": -0.19999999999999996,
            "count": 0
           },
           {
            "bin_start": -0.19999999999999996,
            "bin_end": -0.09999999999999998,
            "count": 0
           },
           {
            "bin_start": -0.09999999999999998,
            "bin_end": 0,
            "count": 0
           },
           {
            "bin_start": 0,
            "bin_end": 0.10000000000000009,
            "count": 1
           },
           {
            "bin_start": 0.10000000000000009,
            "bin_end": 0.20000000000000007,
            "count": 0
           },
           {
            "bin_start": 0.20000000000000007,
            "bin_end": 0.30000000000000004,
            "count": 0
           },
           {
            "bin_start": 0.30000000000000004,
            "bin_end": 0.4,
            "count": 0
           },
           {
            "bin_start": 0.4,
            "bin_end": 0.5,
            "count": 0
           }
          ]
         }
        },
        {
         "name": "retweet_count",
         "dtype": "int64",
         "stats": {
          "unique_count": 1,
          "nan_count": 0,
          "min": "0",
          "max": "0",
          "histogram": [
           {
            "bin_start": -0.5,
            "bin_end": -0.4,
            "count": 0
           },
           {
            "bin_start": -0.4,
            "bin_end": -0.3,
            "count": 0
           },
           {
            "bin_start": -0.3,
            "bin_end": -0.19999999999999996,
            "count": 0
           },
           {
            "bin_start": -0.19999999999999996,
            "bin_end": -0.09999999999999998,
            "count": 0
           },
           {
            "bin_start": -0.09999999999999998,
            "bin_end": 0,
            "count": 0
           },
           {
            "bin_start": 0,
            "bin_end": 0.10000000000000009,
            "count": 1
           },
           {
            "bin_start": 0.10000000000000009,
            "bin_end": 0.20000000000000007,
            "count": 0
           },
           {
            "bin_start": 0.20000000000000007,
            "bin_end": 0.30000000000000004,
            "count": 0
           },
           {
            "bin_start": 0.30000000000000004,
            "bin_end": 0.4,
            "count": 0
           },
           {
            "bin_start": 0.4,
            "bin_end": 0.5,
            "count": 0
           }
          ]
         }
        },
        {
         "name": "favorite_count",
         "dtype": "int64",
         "stats": {
          "unique_count": 1,
          "nan_count": 0,
          "min": "0",
          "max": "0",
          "histogram": [
           {
            "bin_start": -0.5,
            "bin_end": -0.4,
            "count": 0
           },
           {
            "bin_start": -0.4,
            "bin_end": -0.3,
            "count": 0
           },
           {
            "bin_start": -0.3,
            "bin_end": -0.19999999999999996,
            "count": 0
           },
           {
            "bin_start": -0.19999999999999996,
            "bin_end": -0.09999999999999998,
            "count": 0
           },
           {
            "bin_start": -0.09999999999999998,
            "bin_end": 0,
            "count": 0
           },
           {
            "bin_start": 0,
            "bin_end": 0.10000000000000009,
            "count": 1
           },
           {
            "bin_start": 0.10000000000000009,
            "bin_end": 0.20000000000000007,
            "count": 0
           },
           {
            "bin_start": 0.20000000000000007,
            "bin_end": 0.30000000000000004,
            "count": 0
           },
           {
            "bin_start": 0.30000000000000004,
            "bin_end": 0.4,
            "count": 0
           },
           {
            "bin_start": 0.4,
            "bin_end": 0.5,
            "count": 0
           }
          ]
         }
        },
        {
         "name": "entities",
         "dtype": "object",
         "stats": {
          "unique_count": 1,
          "nan_count": 0,
          "categories": [
           {
            "name": "{'hashtags': [], 'urls': [{'url': 'https://t.co/ZexMXN1N4T', 'expanded_url': 'https://www.svd.se/a/mQP30g/finska-karnkraftsbygget-kraftigt-forsenat-med-dyr-prislapp', 'display_url': 'svd.se/a/mQP30g/finsk…', 'indices': [46, 69]}, {'url': 'https://t.co/NrpqOGWSPo', 'expanded_url': 'https://twitter.com/i/web/status/1589592653318197249', 'display_url': 'twitter.com/i/web/status/1…', 'indices': [117, 140]}], 'user_mentions': [{'screen_name': 'SvD', 'name': 'Svenska Dagbladet', 'id': 26489325, 'id_str': '26489325', 'indices': [74, 78]}], 'symbols': []}",
            "count": 1
           }
          ]
         }
        },
        {
         "name": "favorited",
         "dtype": "bool",
         "stats": {
          "unique_count": 1,
          "nan_count": 0,
          "categories": [
           {
            "name": "False",
            "count": 1
           }
          ]
         }
        },
        {
         "name": "retweeted",
         "dtype": "bool",
         "stats": {
          "unique_count": 1,
          "nan_count": 0,
          "categories": [
           {
            "name": "False",
            "count": 1
           }
          ]
         }
        },
        {
         "name": "edit_history",
         "dtype": "object",
         "stats": {
          "unique_count": 1,
          "nan_count": 0,
          "categories": [
           {
            "name": "{'initial_tweet_id': '1589592653318197249', 'edit_tweet_ids': ['1589592653318197249']}",
            "count": 1
           }
          ]
         }
        },
        {
         "name": "edit_controls",
         "dtype": "object",
         "stats": {
          "unique_count": 1,
          "nan_count": 0,
          "categories": [
           {
            "name": "{'editable_until_ms': 1667825196000, 'edits_remaining': 5}",
            "count": 1
           }
          ]
         }
        },
        {
         "name": "editable",
         "dtype": "bool",
         "stats": {
          "unique_count": 1,
          "nan_count": 0,
          "categories": [
           {
            "name": "True",
            "count": 1
           }
          ]
         }
        },
        {
         "name": "filter_level",
         "dtype": "object",
         "stats": {
          "unique_count": 1,
          "nan_count": 0,
          "categories": [
           {
            "name": "low",
            "count": 1
           }
          ]
         }
        },
        {
         "name": "lang",
         "dtype": "object",
         "stats": {
          "unique_count": 1,
          "nan_count": 0,
          "categories": [
           {
            "name": "da",
            "count": 1
           }
          ]
         }
        },
        {
         "name": "matching_rules",
         "dtype": "object",
         "stats": {
          "unique_count": 1,
          "nan_count": 0,
          "categories": [
           {
            "name": "[{'tag': None}]",
            "count": 1
           }
          ]
         }
        },
        {
         "name": "possibly_sensitive",
         "dtype": "object",
         "stats": {
          "unique_count": 1,
          "nan_count": 0,
          "categories": [
           {
            "name": "True",
            "count": 1
           }
          ]
         }
        },
        {
         "name": "display_text_range",
         "dtype": "object",
         "stats": {
          "unique_count": 0,
          "nan_count": 1,
          "categories": [
           {
            "name": "Missing",
            "count": 1
           }
          ]
         }
        },
        {
         "name": "extended_tweet",
         "dtype": "object",
         "stats": {
          "unique_count": 1,
          "nan_count": 0,
          "categories": [
           {
            "name": "{'full_text': 'Ny finsk reaktor ”både misslyckad och lyckad” https://t.co/ZexMXN1N4T via @SvD \\n\\n- Nu kan det nye finske A-kraft værk starte og levere 14% af Finlands el. De 2 andre værker leverer idag ca. 14%, så ca28% er A-kraft el.\\n\\n#dkpol #svpol #nopol #fipol', 'display_text_range': [0, 247], 'entities': {'hashtags': [{'text': 'dkpol', 'indices': [220, 226]}, {'text': 'svpol', 'indices': [227, 233]}, {'text': 'nopol', 'indices': [234, 240]}, {'text': 'fipol', 'indices': [241, 247]}], 'urls': [{'url': 'https://t.co/ZexMXN1N4T', 'expanded_url': 'https://www.svd.se/a/mQP30g/finska-karnkraftsbygget-kraftigt-forsenat-med-dyr-prislapp', 'display_url': 'svd.se/a/mQP30g/finsk…', 'indices': [46, 69]}], 'user_mentions': [{'screen_name': 'SvD', 'name': 'Svenska Dagbladet', 'id': 26489325, 'id_str': '26489325', 'indices': [74, 78]}], 'symbols': []}}",
            "count": 1
           }
          ]
         }
        },
        {
         "name": "quoted_status_id",
         "dtype": "float64",
         "stats": {
          "unique_count": 0,
          "nan_count": 1,
          "min": null,
          "max": null,
          "histogram": [
           {
            "bin_start": 0,
            "bin_end": 0.1,
            "count": 0
           },
           {
            "bin_start": 0.1,
            "bin_end": 0.2,
            "count": 0
           },
           {
            "bin_start": 0.2,
            "bin_end": 0.30000000000000004,
            "count": 0
           },
           {
            "bin_start": 0.30000000000000004,
            "bin_end": 0.4,
            "count": 0
           },
           {
            "bin_start": 0.4,
            "bin_end": 0.5,
            "count": 0
           },
           {
            "bin_start": 0.5,
            "bin_end": 0.6000000000000001,
            "count": 0
           },
           {
            "bin_start": 0.6000000000000001,
            "bin_end": 0.7000000000000001,
            "count": 0
           },
           {
            "bin_start": 0.7000000000000001,
            "bin_end": 0.8,
            "count": 0
           },
           {
            "bin_start": 0.8,
            "bin_end": 0.9,
            "count": 0
           },
           {
            "bin_start": 0.9,
            "bin_end": 1,
            "count": 0
           }
          ]
         }
        },
        {
         "name": "quoted_status_id_str",
         "dtype": "float64",
         "stats": {
          "unique_count": 0,
          "nan_count": 1,
          "min": null,
          "max": null,
          "histogram": [
           {
            "bin_start": 0,
            "bin_end": 0.1,
            "count": 0
           },
           {
            "bin_start": 0.1,
            "bin_end": 0.2,
            "count": 0
           },
           {
            "bin_start": 0.2,
            "bin_end": 0.30000000000000004,
            "count": 0
           },
           {
            "bin_start": 0.30000000000000004,
            "bin_end": 0.4,
            "count": 0
           },
           {
            "bin_start": 0.4,
            "bin_end": 0.5,
            "count": 0
           },
           {
            "bin_start": 0.5,
            "bin_end": 0.6000000000000001,
            "count": 0
           },
           {
            "bin_start": 0.6000000000000001,
            "bin_end": 0.7000000000000001,
            "count": 0
           },
           {
            "bin_start": 0.7000000000000001,
            "bin_end": 0.8,
            "count": 0
           },
           {
            "bin_start": 0.8,
            "bin_end": 0.9,
            "count": 0
           },
           {
            "bin_start": 0.9,
            "bin_end": 1,
            "count": 0
           }
          ]
         }
        },
        {
         "name": "quoted_status",
         "dtype": "object",
         "stats": {
          "unique_count": 0,
          "nan_count": 1,
          "categories": [
           {
            "name": "Missing",
            "count": 1
           }
          ]
         }
        },
        {
         "name": "quoted_status_permalink",
         "dtype": "object",
         "stats": {
          "unique_count": 0,
          "nan_count": 1,
          "categories": [
           {
            "name": "Missing",
            "count": 1
           }
          ]
         }
        },
        {
         "name": "extended_entities",
         "dtype": "object",
         "stats": {
          "unique_count": 0,
          "nan_count": 1,
          "categories": [
           {
            "name": "Missing",
            "count": 1
           }
          ]
         }
        },
        {
         "name": "_deepnote_index_column",
         "dtype": "int64"
        }
       ],
       "rows": [
        {
         "Unnamed: 0": "79",
         "created_at": "Mon Nov 07 12:16:36 +0000 2022",
         "id": "1589592653318197249",
         "id_str": "1589592653318197249",
         "text": "Ny finsk reaktor ”både misslyckad och lyckad” https://t.co/ZexMXN1N4T via @SvD \n\n- Nu kan det nye finske A-kraft væ… https://t.co/NrpqOGWSPo",
         "source": "<a href=\"https://mobile.twitter.com\" rel=\"nofollow\">Twitter Web App</a>",
         "truncated": "True",
         "in_reply_to_status_id": "nan",
         "in_reply_to_status_id_str": "nan",
         "in_reply_to_user_id": "nan",
         "in_reply_to_user_id_str": "nan",
         "in_reply_to_screen_name": "nan",
         "user": "{'id': 1572352076, 'id_str': '1572352076', 'name': 'H. C. Andersen', 'screen_name': 'HCAndersen1943', 'location': 'Skåne, Sverige', 'url': None, 'description': None, 'translator_type': 'none', 'protected': False, 'verified': False, 'followers_count': 55, 'friends_count': 96, 'listed_count': 0, 'favourites_count': 3089, 'statuses_count': 2787, 'created_at': 'Sat Jul 06 09:03:18 +0000 2013', 'utc_offset': None, 'time_zone': None, 'geo_enabled': False, 'lang': None, 'contributors_enabled': False, 'is_translator': False, 'profile_background_color': 'C0DEED', 'profile_background_image_url': 'http://abs.twimg.com/images/themes/theme1/bg.png', 'profile_background_image_url_https': 'https://abs.twimg.com/images/themes/theme1/bg.png', 'profile_background_tile': False, 'profile_link_color': '1DA1F2', 'profile_sidebar_border_color': 'C0DEED', 'profile_sidebar_fill_color': 'DDEEF6', 'profile_text_color': '333333', 'profile_use_background_image': True, 'profile_image_url': 'http://pbs.twimg.com/pr…",
         "geo": "nan",
         "coordinates": "nan",
         "place": "nan",
         "contributors": "nan",
         "retweeted_status": "nan",
         "is_quote_status": "False",
         "quote_count": "0",
         "reply_count": "0",
         "retweet_count": "0",
         "favorite_count": "0",
         "entities": "{'hashtags': [], 'urls': [{'url': 'https://t.co/ZexMXN1N4T', 'expanded_url': 'https://www.svd.se/a/mQP30g/finska-karnkraftsbygget-kraftigt-forsenat-med-dyr-prislapp', 'display_url': 'svd.se/a/mQP30g/finsk…', 'indices': [46, 69]}, {'url': 'https://t.co/NrpqOGWSPo', 'expanded_url': 'https://twitter.com/i/web/status/1589592653318197249', 'display_url': 'twitter.com/i/web/status/1…', 'indices': [117, 140]}], 'user_mentions': [{'screen_name': 'SvD', 'name': 'Svenska Dagbladet', 'id': 26489325, 'id_str': '26489325', 'indices': [74, 78]}], 'symbols': []}",
         "favorited": "False",
         "retweeted": "False",
         "edit_history": "{'initial_tweet_id': '1589592653318197249', 'edit_tweet_ids': ['1589592653318197249']}",
         "edit_controls": "{'editable_until_ms': 1667825196000, 'edits_remaining': 5}",
         "editable": "True",
         "filter_level": "low",
         "lang": "da",
         "matching_rules": "[{'tag': None}]",
         "possibly_sensitive": "True",
         "display_text_range": "nan",
         "extended_tweet": "{'full_text': 'Ny finsk reaktor ”både misslyckad och lyckad” https://t.co/ZexMXN1N4T via @SvD \\n\\n- Nu kan det nye finske A-kraft værk starte og levere 14% af Finlands el. De 2 andre værker leverer idag ca. 14%, så ca28% er A-kraft el.\\n\\n#dkpol #svpol #nopol #fipol', 'display_text_range': [0, 247], 'entities': {'hashtags': [{'text': 'dkpol', 'indices': [220, 226]}, {'text': 'svpol', 'indices': [227, 233]}, {'text': 'nopol', 'indices': [234, 240]}, {'text': 'fipol', 'indices': [241, 247]}], 'urls': [{'url': 'https://t.co/ZexMXN1N4T', 'expanded_url': 'https://www.svd.se/a/mQP30g/finska-karnkraftsbygget-kraftigt-forsenat-med-dyr-prislapp', 'display_url': 'svd.se/a/mQP30g/finsk…', 'indices': [46, 69]}], 'user_mentions': [{'screen_name': 'SvD', 'name': 'Svenska Dagbladet', 'id': 26489325, 'id_str': '26489325', 'indices': [74, 78]}], 'symbols': []}}",
         "quoted_status_id": "nan",
         "quoted_status_id_str": "nan",
         "quoted_status": "nan",
         "quoted_status_permalink": "nan",
         "extended_entities": "nan",
         "_deepnote_index_column": "79"
        }
       ]
      },
      "text/plain": "    Unnamed: 0                      created_at                   id  \\\n79          79  Mon Nov 07 12:16:36 +0000 2022  1589592653318197249   \n\n                 id_str                                               text  \\\n79  1589592653318197249  Ny finsk reaktor ”både misslyckad och lyckad” ...   \n\n                                               source  truncated  \\\n79  <a href=\"https://mobile.twitter.com\" rel=\"nofo...       True   \n\n    in_reply_to_status_id  in_reply_to_status_id_str  in_reply_to_user_id  \\\n79                    NaN                        NaN                  NaN   \n\n    ...  lang   matching_rules possibly_sensitive  display_text_range  \\\n79  ...    da  [{'tag': None}]               True                 NaN   \n\n                                       extended_tweet quoted_status_id  \\\n79  {'full_text': 'Ny finsk reaktor ”både misslyck...              NaN   \n\n    quoted_status_id_str quoted_status  quoted_status_permalink  \\\n79                   NaN           NaN                      NaN   \n\n    extended_entities  \n79                NaN  \n\n[1 rows x 40 columns]",
      "text/html": "<div>\n<style scoped>\n    .dataframe tbody tr th:only-of-type {\n        vertical-align: middle;\n    }\n\n    .dataframe tbody tr th {\n        vertical-align: top;\n    }\n\n    .dataframe thead th {\n        text-align: right;\n    }\n</style>\n<table border=\"1\" class=\"dataframe\">\n  <thead>\n    <tr style=\"text-align: right;\">\n      <th></th>\n      <th>Unnamed: 0</th>\n      <th>created_at</th>\n      <th>id</th>\n      <th>id_str</th>\n      <th>text</th>\n      <th>source</th>\n      <th>truncated</th>\n      <th>in_reply_to_status_id</th>\n      <th>in_reply_to_status_id_str</th>\n      <th>in_reply_to_user_id</th>\n      <th>...</th>\n      <th>lang</th>\n      <th>matching_rules</th>\n      <th>possibly_sensitive</th>\n      <th>display_text_range</th>\n      <th>extended_tweet</th>\n      <th>quoted_status_id</th>\n      <th>quoted_status_id_str</th>\n      <th>quoted_status</th>\n      <th>quoted_status_permalink</th>\n      <th>extended_entities</th>\n    </tr>\n  </thead>\n  <tbody>\n    <tr>\n      <th>79</th>\n      <td>79</td>\n      <td>Mon Nov 07 12:16:36 +0000 2022</td>\n      <td>1589592653318197249</td>\n      <td>1589592653318197249</td>\n      <td>Ny finsk reaktor ”både misslyckad och lyckad” ...</td>\n      <td>&lt;a href=\"https://mobile.twitter.com\" rel=\"nofo...</td>\n      <td>True</td>\n      <td>NaN</td>\n      <td>NaN</td>\n      <td>NaN</td>\n      <td>...</td>\n      <td>da</td>\n      <td>[{'tag': None}]</td>\n      <td>True</td>\n      <td>NaN</td>\n      <td>{'full_text': 'Ny finsk reaktor ”både misslyck...</td>\n      <td>NaN</td>\n      <td>NaN</td>\n      <td>NaN</td>\n      <td>NaN</td>\n      <td>NaN</td>\n    </tr>\n  </tbody>\n</table>\n<p>1 rows × 40 columns</p>\n</div>"
     },
     "metadata": {}
    }
   ]
  },
  {
   "cell_type": "markdown",
   "source": "<a style='text-decoration:none;line-height:16px;display:flex;color:#5B5B62;padding:10px;justify-content:end;' href='https://deepnote.com?utm_source=created-in-deepnote-cell&projectId=30797f9c-952e-45b4-98d4-31c9ac73ae78' target=\"_blank\">\n<img alt='Created in deepnote.com' style='display:inline;max-height:16px;margin:0px;margin-right:7.5px;' src='data:image/svg+xml;base64,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' > </img>\nCreated in <span style='font-weight:600;margin-left:4px;'>Deepnote</span></a>",
   "metadata": {
    "tags": [],
    "created_in_deepnote_cell": true,
    "deepnote_cell_type": "markdown"
   }
  }
 ],
 "nbformat": 4,
 "nbformat_minor": 2,
 "metadata": {
  "kernelspec": {
   "display_name": "Python 3.10.6 64-bit",
   "language": "python",
   "name": "python3"
  },
  "language_info": {
   "codemirror_mode": {
    "name": "ipython",
    "version": 3
   },
   "file_extension": ".py",
   "mimetype": "text/x-python",
   "name": "python",
   "nbconvert_exporter": "python",
   "pygments_lexer": "ipython3",
   "version": "3.10.6"
  },
  "orig_nbformat": 4,
  "vscode": {
   "interpreter": {
    "hash": "b0fa6594d8f4cbf19f97940f81e996739fb7646882a419484c72d19e05852a7e"
   }
  },
  "deepnote_notebook_id": "eb5af8ba-6b69-402e-8c67-8d110efcef4b",
  "deepnote": {},
  "deepnote_persisted_session": {
   "createdAt": "2022-11-08T19:16:40.270Z"
  },
  "deepnote_execution_queue": []
 }
}